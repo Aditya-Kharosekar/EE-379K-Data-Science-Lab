{
 "cells": [
  {
   "cell_type": "markdown",
   "metadata": {},
   "source": [
    "# Lab 5\n",
    "\n",
    "Aditya Kharosekar amk3587\n",
    "Rahul Jain rj8656"
   ]
  },
  {
   "cell_type": "markdown",
   "metadata": {},
   "source": [
    "\n",
    "# Chapter 4 Problem 10"
   ]
  },
  {
   "cell_type": "code",
   "execution_count": 303,
   "metadata": {
    "collapsed": true
   },
   "outputs": [],
   "source": [
    "import numpy as np\n",
    "import pandas as pd\n",
    "import matplotlib.pyplot as plt\n",
    "from sklearn.linear_model import LogisticRegression, LinearRegression\n",
    "from sklearn.discriminant_analysis import LinearDiscriminantAnalysis as LDA\n",
    "from sklearn.metrics import confusion_matrix"
   ]
  },
  {
   "cell_type": "code",
   "execution_count": 304,
   "metadata": {
    "collapsed": true
   },
   "outputs": [],
   "source": [
    "weekly = pd.read_csv(\"Weekly.csv\")"
   ]
  },
  {
   "cell_type": "code",
   "execution_count": 305,
   "metadata": {
    "collapsed": false
   },
   "outputs": [
    {
     "data": {
      "text/html": [
       "<div>\n",
       "<table border=\"1\" class=\"dataframe\">\n",
       "  <thead>\n",
       "    <tr style=\"text-align: right;\">\n",
       "      <th></th>\n",
       "      <th>Unnamed: 0</th>\n",
       "      <th>Year</th>\n",
       "      <th>Lag1</th>\n",
       "      <th>Lag2</th>\n",
       "      <th>Lag3</th>\n",
       "      <th>Lag4</th>\n",
       "      <th>Lag5</th>\n",
       "      <th>Volume</th>\n",
       "      <th>Today</th>\n",
       "      <th>Direction</th>\n",
       "    </tr>\n",
       "  </thead>\n",
       "  <tbody>\n",
       "    <tr>\n",
       "      <th>0</th>\n",
       "      <td>1</td>\n",
       "      <td>1990</td>\n",
       "      <td>0.816</td>\n",
       "      <td>1.572</td>\n",
       "      <td>-3.936</td>\n",
       "      <td>-0.229</td>\n",
       "      <td>-3.484</td>\n",
       "      <td>0.154976</td>\n",
       "      <td>-0.270</td>\n",
       "      <td>Down</td>\n",
       "    </tr>\n",
       "    <tr>\n",
       "      <th>1</th>\n",
       "      <td>2</td>\n",
       "      <td>1990</td>\n",
       "      <td>-0.270</td>\n",
       "      <td>0.816</td>\n",
       "      <td>1.572</td>\n",
       "      <td>-3.936</td>\n",
       "      <td>-0.229</td>\n",
       "      <td>0.148574</td>\n",
       "      <td>-2.576</td>\n",
       "      <td>Down</td>\n",
       "    </tr>\n",
       "    <tr>\n",
       "      <th>2</th>\n",
       "      <td>3</td>\n",
       "      <td>1990</td>\n",
       "      <td>-2.576</td>\n",
       "      <td>-0.270</td>\n",
       "      <td>0.816</td>\n",
       "      <td>1.572</td>\n",
       "      <td>-3.936</td>\n",
       "      <td>0.159837</td>\n",
       "      <td>3.514</td>\n",
       "      <td>Up</td>\n",
       "    </tr>\n",
       "    <tr>\n",
       "      <th>3</th>\n",
       "      <td>4</td>\n",
       "      <td>1990</td>\n",
       "      <td>3.514</td>\n",
       "      <td>-2.576</td>\n",
       "      <td>-0.270</td>\n",
       "      <td>0.816</td>\n",
       "      <td>1.572</td>\n",
       "      <td>0.161630</td>\n",
       "      <td>0.712</td>\n",
       "      <td>Up</td>\n",
       "    </tr>\n",
       "    <tr>\n",
       "      <th>4</th>\n",
       "      <td>5</td>\n",
       "      <td>1990</td>\n",
       "      <td>0.712</td>\n",
       "      <td>3.514</td>\n",
       "      <td>-2.576</td>\n",
       "      <td>-0.270</td>\n",
       "      <td>0.816</td>\n",
       "      <td>0.153728</td>\n",
       "      <td>1.178</td>\n",
       "      <td>Up</td>\n",
       "    </tr>\n",
       "  </tbody>\n",
       "</table>\n",
       "</div>"
      ],
      "text/plain": [
       "   Unnamed: 0  Year   Lag1   Lag2   Lag3   Lag4   Lag5    Volume  Today  \\\n",
       "0           1  1990  0.816  1.572 -3.936 -0.229 -3.484  0.154976 -0.270   \n",
       "1           2  1990 -0.270  0.816  1.572 -3.936 -0.229  0.148574 -2.576   \n",
       "2           3  1990 -2.576 -0.270  0.816  1.572 -3.936  0.159837  3.514   \n",
       "3           4  1990  3.514 -2.576 -0.270  0.816  1.572  0.161630  0.712   \n",
       "4           5  1990  0.712  3.514 -2.576 -0.270  0.816  0.153728  1.178   \n",
       "\n",
       "  Direction  \n",
       "0      Down  \n",
       "1      Down  \n",
       "2        Up  \n",
       "3        Up  \n",
       "4        Up  "
      ]
     },
     "execution_count": 305,
     "metadata": {},
     "output_type": "execute_result"
    }
   ],
   "source": [
    "weekly.head()"
   ]
  },
  {
   "cell_type": "code",
   "execution_count": 306,
   "metadata": {
    "collapsed": false
   },
   "outputs": [
    {
     "data": {
      "text/plain": [
       "(1089, 10)"
      ]
     },
     "execution_count": 306,
     "metadata": {},
     "output_type": "execute_result"
    }
   ],
   "source": [
    "weekly.shape"
   ]
  },
  {
   "cell_type": "markdown",
   "metadata": {},
   "source": [
    "** NEED TO DO NUMERICAL/GRAPHICAL SUMMARIES **"
   ]
  },
  {
   "cell_type": "markdown",
   "metadata": {},
   "source": [
    "## Logistic Regression on all data"
   ]
  },
  {
   "cell_type": "code",
   "execution_count": 307,
   "metadata": {
    "collapsed": false
   },
   "outputs": [
    {
     "data": {
      "text/html": [
       "<div>\n",
       "<table border=\"1\" class=\"dataframe\">\n",
       "  <thead>\n",
       "    <tr style=\"text-align: right;\">\n",
       "      <th></th>\n",
       "      <th>Lag1</th>\n",
       "      <th>Lag2</th>\n",
       "      <th>Lag3</th>\n",
       "      <th>Lag4</th>\n",
       "      <th>Lag5</th>\n",
       "      <th>Volume</th>\n",
       "    </tr>\n",
       "  </thead>\n",
       "  <tbody>\n",
       "    <tr>\n",
       "      <th>0</th>\n",
       "      <td>0.816</td>\n",
       "      <td>1.572</td>\n",
       "      <td>-3.936</td>\n",
       "      <td>-0.229</td>\n",
       "      <td>-3.484</td>\n",
       "      <td>0.154976</td>\n",
       "    </tr>\n",
       "    <tr>\n",
       "      <th>1</th>\n",
       "      <td>-0.270</td>\n",
       "      <td>0.816</td>\n",
       "      <td>1.572</td>\n",
       "      <td>-3.936</td>\n",
       "      <td>-0.229</td>\n",
       "      <td>0.148574</td>\n",
       "    </tr>\n",
       "    <tr>\n",
       "      <th>2</th>\n",
       "      <td>-2.576</td>\n",
       "      <td>-0.270</td>\n",
       "      <td>0.816</td>\n",
       "      <td>1.572</td>\n",
       "      <td>-3.936</td>\n",
       "      <td>0.159837</td>\n",
       "    </tr>\n",
       "    <tr>\n",
       "      <th>3</th>\n",
       "      <td>3.514</td>\n",
       "      <td>-2.576</td>\n",
       "      <td>-0.270</td>\n",
       "      <td>0.816</td>\n",
       "      <td>1.572</td>\n",
       "      <td>0.161630</td>\n",
       "    </tr>\n",
       "    <tr>\n",
       "      <th>4</th>\n",
       "      <td>0.712</td>\n",
       "      <td>3.514</td>\n",
       "      <td>-2.576</td>\n",
       "      <td>-0.270</td>\n",
       "      <td>0.816</td>\n",
       "      <td>0.153728</td>\n",
       "    </tr>\n",
       "  </tbody>\n",
       "</table>\n",
       "</div>"
      ],
      "text/plain": [
       "    Lag1   Lag2   Lag3   Lag4   Lag5    Volume\n",
       "0  0.816  1.572 -3.936 -0.229 -3.484  0.154976\n",
       "1 -0.270  0.816  1.572 -3.936 -0.229  0.148574\n",
       "2 -2.576 -0.270  0.816  1.572 -3.936  0.159837\n",
       "3  3.514 -2.576 -0.270  0.816  1.572  0.161630\n",
       "4  0.712  3.514 -2.576 -0.270  0.816  0.153728"
      ]
     },
     "execution_count": 307,
     "metadata": {},
     "output_type": "execute_result"
    }
   ],
   "source": [
    "logReg = LogisticRegression()\n",
    "testing = weekly.loc[:,\"Lag1\":\"Volume\"]\n",
    "testing.head()"
   ]
  },
  {
   "cell_type": "code",
   "execution_count": 308,
   "metadata": {
    "collapsed": false
   },
   "outputs": [
    {
     "data": {
      "text/plain": [
       "LogisticRegression(C=1.0, class_weight=None, dual=False, fit_intercept=True,\n",
       "          intercept_scaling=1, max_iter=100, multi_class='ovr', n_jobs=1,\n",
       "          penalty='l2', random_state=None, solver='liblinear', tol=0.0001,\n",
       "          verbose=0, warm_start=False)"
      ]
     },
     "execution_count": 308,
     "metadata": {},
     "output_type": "execute_result"
    }
   ],
   "source": [
    "logReg.fit(testing, weekly[\"Direction\"])"
   ]
  },
  {
   "cell_type": "code",
   "execution_count": 309,
   "metadata": {
    "collapsed": false
   },
   "outputs": [
    {
     "data": {
      "text/html": [
       "<div>\n",
       "<table border=\"1\" class=\"dataframe\">\n",
       "  <thead>\n",
       "    <tr style=\"text-align: right;\">\n",
       "      <th></th>\n",
       "      <th>Lag1</th>\n",
       "      <th>Lag2</th>\n",
       "      <th>Lag3</th>\n",
       "      <th>Lag4</th>\n",
       "      <th>Lag5</th>\n",
       "      <th>Volume</th>\n",
       "    </tr>\n",
       "  </thead>\n",
       "  <tbody>\n",
       "    <tr>\n",
       "      <th>count</th>\n",
       "      <td>1089.000000</td>\n",
       "      <td>1089.000000</td>\n",
       "      <td>1089.000000</td>\n",
       "      <td>1089.000000</td>\n",
       "      <td>1089.000000</td>\n",
       "      <td>1089.000000</td>\n",
       "    </tr>\n",
       "    <tr>\n",
       "      <th>mean</th>\n",
       "      <td>0.150585</td>\n",
       "      <td>0.151079</td>\n",
       "      <td>0.147205</td>\n",
       "      <td>0.145818</td>\n",
       "      <td>0.139893</td>\n",
       "      <td>1.574618</td>\n",
       "    </tr>\n",
       "    <tr>\n",
       "      <th>std</th>\n",
       "      <td>2.357013</td>\n",
       "      <td>2.357254</td>\n",
       "      <td>2.360502</td>\n",
       "      <td>2.360279</td>\n",
       "      <td>2.361285</td>\n",
       "      <td>1.686636</td>\n",
       "    </tr>\n",
       "    <tr>\n",
       "      <th>min</th>\n",
       "      <td>-18.195000</td>\n",
       "      <td>-18.195000</td>\n",
       "      <td>-18.195000</td>\n",
       "      <td>-18.195000</td>\n",
       "      <td>-18.195000</td>\n",
       "      <td>0.087465</td>\n",
       "    </tr>\n",
       "    <tr>\n",
       "      <th>25%</th>\n",
       "      <td>-1.154000</td>\n",
       "      <td>-1.154000</td>\n",
       "      <td>-1.158000</td>\n",
       "      <td>-1.158000</td>\n",
       "      <td>-1.166000</td>\n",
       "      <td>0.332022</td>\n",
       "    </tr>\n",
       "    <tr>\n",
       "      <th>50%</th>\n",
       "      <td>0.241000</td>\n",
       "      <td>0.241000</td>\n",
       "      <td>0.241000</td>\n",
       "      <td>0.238000</td>\n",
       "      <td>0.234000</td>\n",
       "      <td>1.002680</td>\n",
       "    </tr>\n",
       "    <tr>\n",
       "      <th>75%</th>\n",
       "      <td>1.405000</td>\n",
       "      <td>1.409000</td>\n",
       "      <td>1.409000</td>\n",
       "      <td>1.409000</td>\n",
       "      <td>1.405000</td>\n",
       "      <td>2.053727</td>\n",
       "    </tr>\n",
       "    <tr>\n",
       "      <th>max</th>\n",
       "      <td>12.026000</td>\n",
       "      <td>12.026000</td>\n",
       "      <td>12.026000</td>\n",
       "      <td>12.026000</td>\n",
       "      <td>12.026000</td>\n",
       "      <td>9.328214</td>\n",
       "    </tr>\n",
       "  </tbody>\n",
       "</table>\n",
       "</div>"
      ],
      "text/plain": [
       "              Lag1         Lag2         Lag3         Lag4         Lag5  \\\n",
       "count  1089.000000  1089.000000  1089.000000  1089.000000  1089.000000   \n",
       "mean      0.150585     0.151079     0.147205     0.145818     0.139893   \n",
       "std       2.357013     2.357254     2.360502     2.360279     2.361285   \n",
       "min     -18.195000   -18.195000   -18.195000   -18.195000   -18.195000   \n",
       "25%      -1.154000    -1.154000    -1.158000    -1.158000    -1.166000   \n",
       "50%       0.241000     0.241000     0.241000     0.238000     0.234000   \n",
       "75%       1.405000     1.409000     1.409000     1.409000     1.405000   \n",
       "max      12.026000    12.026000    12.026000    12.026000    12.026000   \n",
       "\n",
       "            Volume  \n",
       "count  1089.000000  \n",
       "mean      1.574618  \n",
       "std       1.686636  \n",
       "min       0.087465  \n",
       "25%       0.332022  \n",
       "50%       1.002680  \n",
       "75%       2.053727  \n",
       "max       9.328214  "
      ]
     },
     "execution_count": 309,
     "metadata": {},
     "output_type": "execute_result"
    }
   ],
   "source": [
    "testing.describe()"
   ]
  },
  {
   "cell_type": "markdown",
   "metadata": {},
   "source": [
    "The matrix shows the result of describe() on the matrix made up of the predictor variables. All 5 Lag variables are very similar to each other. The Volume variable, by its nature, has a different structure, but just based on the above matrix, it is hard to say whether any of these variables are by themselves statistically significant."
   ]
  },
  {
   "cell_type": "markdown",
   "metadata": {},
   "source": [
    "## Confusion Matrix"
   ]
  },
  {
   "cell_type": "code",
   "execution_count": 310,
   "metadata": {
    "collapsed": false
   },
   "outputs": [
    {
     "name": "stdout",
     "output_type": "stream",
     "text": [
      "(1089,)\n"
     ]
    },
    {
     "data": {
      "text/plain": [
       "array(['Up', 'Up', 'Up', ..., 'Up', 'Up', 'Up'], dtype=object)"
      ]
     },
     "execution_count": 310,
     "metadata": {},
     "output_type": "execute_result"
    }
   ],
   "source": [
    "results = logReg.predict(testing)\n",
    "print(results.shape)\n",
    "results"
   ]
  },
  {
   "cell_type": "code",
   "execution_count": 311,
   "metadata": {
    "collapsed": false
   },
   "outputs": [
    {
     "name": "stdout",
     "output_type": "stream",
     "text": [
      "[[ 55 429]\n",
      " [ 47 558]]\n"
     ]
    }
   ],
   "source": [
    "print(confusion_matrix(weekly[\"Direction\"], results))"
   ]
  },
  {
   "cell_type": "markdown",
   "metadata": {},
   "source": [
    "Figuring out which row corresponds to \"Up\" and which row corresponds to \"Down\" - "
   ]
  },
  {
   "cell_type": "code",
   "execution_count": 312,
   "metadata": {
    "collapsed": false
   },
   "outputs": [
    {
     "name": "stdout",
     "output_type": "stream",
     "text": [
      "558\n",
      "47\n"
     ]
    }
   ],
   "source": [
    "up_correct = 0\n",
    "up_predicted_as_down = 0\n",
    "for num in range(1089):\n",
    "    if (weekly[\"Direction\"][num]==\"Up\" and results[num]==\"Up\"):\n",
    "        up_correct+=1\n",
    "    if (weekly[\"Direction\"][num]==\"Up\" and results[num]==\"Down\"):\n",
    "        up_predicted_as_down +=1\n",
    "print(up_correct)\n",
    "print(up_predicted_as_down)"
   ]
  },
  {
   "cell_type": "markdown",
   "metadata": {},
   "source": [
    "Interpretation of the confusion matrix - \n",
    "55 Downs and 558 Ups are predicted correctly. 47 Ups are predicted as downs and 429 Downs are predicted as ups.\n",
    "\n",
    "Overall fraction of correct predictions - (55+558)/ (47+429+55+558) = 0.563"
   ]
  },
  {
   "cell_type": "markdown",
   "metadata": {},
   "source": [
    "## Logistic Regression tested on 1990-2008 data"
   ]
  },
  {
   "cell_type": "code",
   "execution_count": 313,
   "metadata": {
    "collapsed": false
   },
   "outputs": [
    {
     "data": {
      "text/html": [
       "<div>\n",
       "<table border=\"1\" class=\"dataframe\">\n",
       "  <thead>\n",
       "    <tr style=\"text-align: right;\">\n",
       "      <th></th>\n",
       "      <th>Unnamed: 0</th>\n",
       "      <th>Year</th>\n",
       "      <th>Lag1</th>\n",
       "      <th>Lag2</th>\n",
       "      <th>Lag3</th>\n",
       "      <th>Lag4</th>\n",
       "      <th>Lag5</th>\n",
       "      <th>Volume</th>\n",
       "      <th>Today</th>\n",
       "      <th>Direction</th>\n",
       "    </tr>\n",
       "  </thead>\n",
       "  <tbody>\n",
       "    <tr>\n",
       "      <th>980</th>\n",
       "      <td>981</td>\n",
       "      <td>2008</td>\n",
       "      <td>12.026</td>\n",
       "      <td>-8.389</td>\n",
       "      <td>-6.198</td>\n",
       "      <td>-3.898</td>\n",
       "      <td>10.491</td>\n",
       "      <td>5.841565</td>\n",
       "      <td>-2.251</td>\n",
       "      <td>Down</td>\n",
       "    </tr>\n",
       "    <tr>\n",
       "      <th>981</th>\n",
       "      <td>982</td>\n",
       "      <td>2008</td>\n",
       "      <td>-2.251</td>\n",
       "      <td>12.026</td>\n",
       "      <td>-8.389</td>\n",
       "      <td>-6.198</td>\n",
       "      <td>-3.898</td>\n",
       "      <td>6.093950</td>\n",
       "      <td>0.418</td>\n",
       "      <td>Up</td>\n",
       "    </tr>\n",
       "    <tr>\n",
       "      <th>982</th>\n",
       "      <td>983</td>\n",
       "      <td>2008</td>\n",
       "      <td>0.418</td>\n",
       "      <td>-2.251</td>\n",
       "      <td>12.026</td>\n",
       "      <td>-8.389</td>\n",
       "      <td>-6.198</td>\n",
       "      <td>5.932454</td>\n",
       "      <td>0.926</td>\n",
       "      <td>Up</td>\n",
       "    </tr>\n",
       "    <tr>\n",
       "      <th>983</th>\n",
       "      <td>984</td>\n",
       "      <td>2008</td>\n",
       "      <td>0.926</td>\n",
       "      <td>0.418</td>\n",
       "      <td>-2.251</td>\n",
       "      <td>12.026</td>\n",
       "      <td>-8.389</td>\n",
       "      <td>5.855972</td>\n",
       "      <td>-1.698</td>\n",
       "      <td>Down</td>\n",
       "    </tr>\n",
       "    <tr>\n",
       "      <th>984</th>\n",
       "      <td>985</td>\n",
       "      <td>2008</td>\n",
       "      <td>-1.698</td>\n",
       "      <td>0.926</td>\n",
       "      <td>0.418</td>\n",
       "      <td>-2.251</td>\n",
       "      <td>12.026</td>\n",
       "      <td>3.087105</td>\n",
       "      <td>6.760</td>\n",
       "      <td>Up</td>\n",
       "    </tr>\n",
       "  </tbody>\n",
       "</table>\n",
       "</div>"
      ],
      "text/plain": [
       "     Unnamed: 0  Year    Lag1    Lag2    Lag3    Lag4    Lag5    Volume  \\\n",
       "980         981  2008  12.026  -8.389  -6.198  -3.898  10.491  5.841565   \n",
       "981         982  2008  -2.251  12.026  -8.389  -6.198  -3.898  6.093950   \n",
       "982         983  2008   0.418  -2.251  12.026  -8.389  -6.198  5.932454   \n",
       "983         984  2008   0.926   0.418  -2.251  12.026  -8.389  5.855972   \n",
       "984         985  2008  -1.698   0.926   0.418  -2.251  12.026  3.087105   \n",
       "\n",
       "     Today Direction  \n",
       "980 -2.251      Down  \n",
       "981  0.418        Up  \n",
       "982  0.926        Up  \n",
       "983 -1.698      Down  \n",
       "984  6.760        Up  "
      ]
     },
     "execution_count": 313,
     "metadata": {},
     "output_type": "execute_result"
    }
   ],
   "source": [
    "pre_2009 = weekly.loc[:984, :]\n",
    "pre_2009.tail()"
   ]
  },
  {
   "cell_type": "markdown",
   "metadata": {},
   "source": [
    "This doesn't seem a great way to separate the pre-2009 data from the rest but for now, this is how I will do it. I will change this when I figure out how to do this a better way"
   ]
  },
  {
   "cell_type": "code",
   "execution_count": 314,
   "metadata": {
    "collapsed": false
   },
   "outputs": [
    {
     "data": {
      "text/html": [
       "<div>\n",
       "<table border=\"1\" class=\"dataframe\">\n",
       "  <thead>\n",
       "    <tr style=\"text-align: right;\">\n",
       "      <th></th>\n",
       "      <th>Unnamed: 0</th>\n",
       "      <th>Year</th>\n",
       "      <th>Lag1</th>\n",
       "      <th>Lag2</th>\n",
       "      <th>Lag3</th>\n",
       "      <th>Lag4</th>\n",
       "      <th>Lag5</th>\n",
       "      <th>Volume</th>\n",
       "      <th>Today</th>\n",
       "      <th>Direction</th>\n",
       "    </tr>\n",
       "  </thead>\n",
       "  <tbody>\n",
       "    <tr>\n",
       "      <th>985</th>\n",
       "      <td>986</td>\n",
       "      <td>2009</td>\n",
       "      <td>6.760</td>\n",
       "      <td>-1.698</td>\n",
       "      <td>0.926</td>\n",
       "      <td>0.418</td>\n",
       "      <td>-2.251</td>\n",
       "      <td>3.793110</td>\n",
       "      <td>-4.448</td>\n",
       "      <td>Down</td>\n",
       "    </tr>\n",
       "    <tr>\n",
       "      <th>986</th>\n",
       "      <td>987</td>\n",
       "      <td>2009</td>\n",
       "      <td>-4.448</td>\n",
       "      <td>6.760</td>\n",
       "      <td>-1.698</td>\n",
       "      <td>0.926</td>\n",
       "      <td>0.418</td>\n",
       "      <td>5.043904</td>\n",
       "      <td>-4.518</td>\n",
       "      <td>Down</td>\n",
       "    </tr>\n",
       "    <tr>\n",
       "      <th>987</th>\n",
       "      <td>988</td>\n",
       "      <td>2009</td>\n",
       "      <td>-4.518</td>\n",
       "      <td>-4.448</td>\n",
       "      <td>6.760</td>\n",
       "      <td>-1.698</td>\n",
       "      <td>0.926</td>\n",
       "      <td>5.948758</td>\n",
       "      <td>-2.137</td>\n",
       "      <td>Down</td>\n",
       "    </tr>\n",
       "    <tr>\n",
       "      <th>988</th>\n",
       "      <td>989</td>\n",
       "      <td>2009</td>\n",
       "      <td>-2.137</td>\n",
       "      <td>-4.518</td>\n",
       "      <td>-4.448</td>\n",
       "      <td>6.760</td>\n",
       "      <td>-1.698</td>\n",
       "      <td>6.129763</td>\n",
       "      <td>-0.730</td>\n",
       "      <td>Down</td>\n",
       "    </tr>\n",
       "    <tr>\n",
       "      <th>989</th>\n",
       "      <td>990</td>\n",
       "      <td>2009</td>\n",
       "      <td>-0.730</td>\n",
       "      <td>-2.137</td>\n",
       "      <td>-4.518</td>\n",
       "      <td>-4.448</td>\n",
       "      <td>6.760</td>\n",
       "      <td>5.602004</td>\n",
       "      <td>5.173</td>\n",
       "      <td>Up</td>\n",
       "    </tr>\n",
       "  </tbody>\n",
       "</table>\n",
       "</div>"
      ],
      "text/plain": [
       "     Unnamed: 0  Year   Lag1   Lag2   Lag3   Lag4   Lag5    Volume  Today  \\\n",
       "985         986  2009  6.760 -1.698  0.926  0.418 -2.251  3.793110 -4.448   \n",
       "986         987  2009 -4.448  6.760 -1.698  0.926  0.418  5.043904 -4.518   \n",
       "987         988  2009 -4.518 -4.448  6.760 -1.698  0.926  5.948758 -2.137   \n",
       "988         989  2009 -2.137 -4.518 -4.448  6.760 -1.698  6.129763 -0.730   \n",
       "989         990  2009 -0.730 -2.137 -4.518 -4.448  6.760  5.602004  5.173   \n",
       "\n",
       "    Direction  \n",
       "985      Down  \n",
       "986      Down  \n",
       "987      Down  \n",
       "988      Down  \n",
       "989        Up  "
      ]
     },
     "execution_count": 314,
     "metadata": {},
     "output_type": "execute_result"
    }
   ],
   "source": [
    "post_2009 = weekly.loc[985:, :]\n",
    "post_2009.head()"
   ]
  },
  {
   "cell_type": "code",
   "execution_count": 315,
   "metadata": {
    "collapsed": false
   },
   "outputs": [
    {
     "data": {
      "text/plain": [
       "(985,)"
      ]
     },
     "execution_count": 315,
     "metadata": {},
     "output_type": "execute_result"
    }
   ],
   "source": [
    "lag2_training  = pre_2009[\"Lag2\"]\n",
    "lag2_training.shape"
   ]
  },
  {
   "cell_type": "code",
   "execution_count": 316,
   "metadata": {
    "collapsed": false
   },
   "outputs": [
    {
     "name": "stderr",
     "output_type": "stream",
     "text": [
      "C:\\Users\\Aditya Kharosekar\\Documents\\Anaconda\\lib\\site-packages\\numpy\\core\\fromnumeric.py:224: FutureWarning: reshape is deprecated and will raise in a subsequent release. Please use .values.reshape(...) instead\n",
      "  return reshape(newshape, order=order)\n"
     ]
    },
    {
     "data": {
      "text/plain": [
       "LogisticRegression(C=1.0, class_weight=None, dual=False, fit_intercept=True,\n",
       "          intercept_scaling=1, max_iter=100, multi_class='ovr', n_jobs=1,\n",
       "          penalty='l2', random_state=None, solver='liblinear', tol=0.0001,\n",
       "          verbose=0, warm_start=False)"
      ]
     },
     "execution_count": 316,
     "metadata": {},
     "output_type": "execute_result"
    }
   ],
   "source": [
    "lag2_training = np.reshape(lag2_training, (985, 1)) # to get rid of a deprecation warning\n",
    "new_logistic_regr = LogisticRegression()\n",
    "new_logistic_regr.fit(lag2_training, pre_2009[\"Direction\"])"
   ]
  },
  {
   "cell_type": "code",
   "execution_count": 317,
   "metadata": {
    "collapsed": false
   },
   "outputs": [
    {
     "data": {
      "text/plain": [
       "(104,)"
      ]
     },
     "execution_count": 317,
     "metadata": {},
     "output_type": "execute_result"
    }
   ],
   "source": [
    "lag2_testing = post_2009[\"Lag2\"]\n",
    "lag2_testing.shape"
   ]
  },
  {
   "cell_type": "code",
   "execution_count": 318,
   "metadata": {
    "collapsed": false
   },
   "outputs": [
    {
     "name": "stdout",
     "output_type": "stream",
     "text": [
      "[[ 9 34]\n",
      " [ 5 56]]\n"
     ]
    },
    {
     "name": "stderr",
     "output_type": "stream",
     "text": [
      "C:\\Users\\Aditya Kharosekar\\Documents\\Anaconda\\lib\\site-packages\\numpy\\core\\fromnumeric.py:224: FutureWarning: reshape is deprecated and will raise in a subsequent release. Please use .values.reshape(...) instead\n",
      "  return reshape(newshape, order=order)\n"
     ]
    }
   ],
   "source": [
    "lag2_testing = np.reshape(lag2_testing, (104, 1))\n",
    "new_results = new_logistic_regr.predict(lag2_testing)\n",
    "print(confusion_matrix(post_2009[\"Direction\"], new_results))"
   ]
  },
  {
   "cell_type": "markdown",
   "metadata": {},
   "source": [
    "Assuming the same row-wise interpretation of the confusion matrix as before, the interpretation of the matrix is as follows - \n",
    "9 Downs and 56 Ups are predicted correctly. 5 Ups are predicted as Downs and 34 Downs are predicted as Ups.\n",
    "Overall fraction of correct predictions = (9+34)/(9+34+5+56) = 0.413"
   ]
  },
  {
   "cell_type": "markdown",
   "metadata": {},
   "source": [
    "## Linear Discriminant Analysis"
   ]
  },
  {
   "cell_type": "code",
   "execution_count": 319,
   "metadata": {
    "collapsed": false
   },
   "outputs": [
    {
     "data": {
      "text/plain": [
       "(985, 1)"
      ]
     },
     "execution_count": 319,
     "metadata": {},
     "output_type": "execute_result"
    }
   ],
   "source": [
    "lag2_training.shape"
   ]
  },
  {
   "cell_type": "code",
   "execution_count": 320,
   "metadata": {
    "collapsed": false
   },
   "outputs": [
    {
     "data": {
      "text/plain": [
       "LinearDiscriminantAnalysis(n_components=None, priors=None, shrinkage=None,\n",
       "              solver='svd', store_covariance=False, tol=0.0001)"
      ]
     },
     "execution_count": 320,
     "metadata": {},
     "output_type": "execute_result"
    }
   ],
   "source": [
    "lda = LDA()\n",
    "lda.fit(lag2_training, pre_2009[\"Direction\"])"
   ]
  },
  {
   "cell_type": "code",
   "execution_count": 321,
   "metadata": {
    "collapsed": false
   },
   "outputs": [],
   "source": [
    "lda_results = lda.predict(lag2_testing)"
   ]
  },
  {
   "cell_type": "code",
   "execution_count": 322,
   "metadata": {
    "collapsed": false
   },
   "outputs": [
    {
     "name": "stdout",
     "output_type": "stream",
     "text": [
      "[[ 9 34]\n",
      " [ 5 56]]\n"
     ]
    }
   ],
   "source": [
    "print(confusion_matrix(post_2009[\"Direction\"], lda_results))"
   ]
  },
  {
   "cell_type": "markdown",
   "metadata": {},
   "source": [
    "This is the exact same confusion matrix as the last logistic regression model. Let's see if both the models have the same predictions for each instance."
   ]
  },
  {
   "cell_type": "code",
   "execution_count": 323,
   "metadata": {
    "collapsed": false
   },
   "outputs": [
    {
     "name": "stdout",
     "output_type": "stream",
     "text": [
      "[-0.85074208 -0.55704038] [-0.85097261 -0.55686856]\n",
      "[-0.82583009 -0.57602457] [-0.82621748 -0.57572292]\n",
      "[-0.79087438 -0.60412607] [-0.79147622 -0.60362703]\n",
      "[-0.719923   -0.66706965] [-0.72093726 -0.66610856]\n",
      "[-0.91688866 -0.5104272 ] [-0.91668814 -0.51056077]\n"
     ]
    }
   ],
   "source": [
    "x1 = new_logistic_regr.predict_log_proba(lag2_training)\n",
    "x2 = lda.predict_log_proba(lag2_training)\n",
    "for num in range(5): #printing out only the first few\n",
    "    print(x1[num], x2[num])"
   ]
  },
  {
   "cell_type": "markdown",
   "metadata": {},
   "source": [
    "As the log probabilities returned by both these models are not the same, the fact that both these models return the same confusion matrix is not an issue.\n",
    "\n",
    "Interpretration of the confusion matrix - \n",
    "9 Downs and 56 Ups are predicted correctly. 5 Ups are predicted as Downs and 34 Downs are predicted as Ups. Overall fraction of correct predictions = (9+34)/(9+34+5+56) = 0.413"
   ]
  },
  {
   "cell_type": "markdown",
   "metadata": {
    "collapsed": true
   },
   "source": [
    "## QDA"
   ]
  },
  {
   "cell_type": "code",
   "execution_count": 324,
   "metadata": {
    "collapsed": false
   },
   "outputs": [
    {
     "data": {
      "text/plain": [
       "QuadraticDiscriminantAnalysis(priors=None, reg_param=0.0,\n",
       "               store_covariances=False, tol=0.0001)"
      ]
     },
     "execution_count": 324,
     "metadata": {},
     "output_type": "execute_result"
    }
   ],
   "source": [
    "from sklearn.discriminant_analysis import QuadraticDiscriminantAnalysis as QDA\n",
    "qda = QDA()\n",
    "qda.fit(lag2_training, pre_2009[\"Direction\"])"
   ]
  },
  {
   "cell_type": "code",
   "execution_count": 325,
   "metadata": {
    "collapsed": false
   },
   "outputs": [
    {
     "name": "stdout",
     "output_type": "stream",
     "text": [
      "[[ 0 43]\n",
      " [ 0 61]]\n"
     ]
    }
   ],
   "source": [
    "qda_results = qda.predict(lag2_testing)\n",
    "print(confusion_matrix(post_2009[\"Direction\"], qda_results))"
   ]
  },
  {
   "cell_type": "markdown",
   "metadata": {},
   "source": [
    "61 Ups are predicted correctly and 43 Downs are predicted as Ups. So it looks like this model is predicting everything as an Up. I am not sure if this is supposed to happen.\n",
    "\n",
    "Overall fraction of accurate predictions - 61/104 = 0.59"
   ]
  },
  {
   "cell_type": "markdown",
   "metadata": {},
   "source": [
    "## KNN"
   ]
  },
  {
   "cell_type": "code",
   "execution_count": 326,
   "metadata": {
    "collapsed": false
   },
   "outputs": [
    {
     "data": {
      "text/plain": [
       "KNeighborsClassifier(algorithm='auto', leaf_size=30, metric='minkowski',\n",
       "           metric_params=None, n_jobs=1, n_neighbors=5, p=2,\n",
       "           weights='uniform')"
      ]
     },
     "execution_count": 326,
     "metadata": {},
     "output_type": "execute_result"
    }
   ],
   "source": [
    "from sklearn.neighbors import KNeighborsClassifier as KNN\n",
    "knn = KNN()\n",
    "knn.fit(lag2_training, pre_2009[\"Direction\"])"
   ]
  },
  {
   "cell_type": "code",
   "execution_count": 327,
   "metadata": {
    "collapsed": false
   },
   "outputs": [
    {
     "name": "stdout",
     "output_type": "stream",
     "text": [
      "[[16 27]\n",
      " [22 39]]\n"
     ]
    }
   ],
   "source": [
    "knn_results = knn.predict(lag2_testing)\n",
    "print(confusion_matrix(post_2009[\"Direction\"], knn_results))"
   ]
  },
  {
   "cell_type": "markdown",
   "metadata": {},
   "source": [
    "16 Downs are predicted correctly and 39 Ups are predicted correctly. 22 Ups are predicted as Downs and 27 Downs are predicted as Ups.\n",
    "\n",
    "Overall fraction of accurate predictions - (16+39)/(16+39+22+27) = 0.53"
   ]
  },
  {
   "cell_type": "markdown",
   "metadata": {},
   "source": [
    "QDA seems to provide the best results with an accuracy of 0.59"
   ]
  },
  {
   "cell_type": "markdown",
   "metadata": {},
   "source": [
    "# Chapter 5 Problem 5"
   ]
  },
  {
   "cell_type": "code",
   "execution_count": 328,
   "metadata": {
    "collapsed": false
   },
   "outputs": [],
   "source": [
    "default = pd.read_csv(\"Default.csv\")\n",
    "import random"
   ]
  },
  {
   "cell_type": "code",
   "execution_count": 329,
   "metadata": {
    "collapsed": false
   },
   "outputs": [],
   "source": [
    "random.seed() #setting random seed"
   ]
  },
  {
   "cell_type": "code",
   "execution_count": 330,
   "metadata": {
    "collapsed": false
   },
   "outputs": [
    {
     "data": {
      "text/html": [
       "<div>\n",
       "<table border=\"1\" class=\"dataframe\">\n",
       "  <thead>\n",
       "    <tr style=\"text-align: right;\">\n",
       "      <th></th>\n",
       "      <th>Unnamed: 0</th>\n",
       "      <th>default</th>\n",
       "      <th>student</th>\n",
       "      <th>balance</th>\n",
       "      <th>income</th>\n",
       "    </tr>\n",
       "  </thead>\n",
       "  <tbody>\n",
       "    <tr>\n",
       "      <th>0</th>\n",
       "      <td>1</td>\n",
       "      <td>No</td>\n",
       "      <td>No</td>\n",
       "      <td>729.526495</td>\n",
       "      <td>44361.62507</td>\n",
       "    </tr>\n",
       "    <tr>\n",
       "      <th>1</th>\n",
       "      <td>2</td>\n",
       "      <td>No</td>\n",
       "      <td>Yes</td>\n",
       "      <td>817.180407</td>\n",
       "      <td>12106.13470</td>\n",
       "    </tr>\n",
       "    <tr>\n",
       "      <th>2</th>\n",
       "      <td>3</td>\n",
       "      <td>No</td>\n",
       "      <td>No</td>\n",
       "      <td>1073.549164</td>\n",
       "      <td>31767.13895</td>\n",
       "    </tr>\n",
       "    <tr>\n",
       "      <th>3</th>\n",
       "      <td>4</td>\n",
       "      <td>No</td>\n",
       "      <td>No</td>\n",
       "      <td>529.250605</td>\n",
       "      <td>35704.49394</td>\n",
       "    </tr>\n",
       "    <tr>\n",
       "      <th>4</th>\n",
       "      <td>5</td>\n",
       "      <td>No</td>\n",
       "      <td>No</td>\n",
       "      <td>785.655883</td>\n",
       "      <td>38463.49588</td>\n",
       "    </tr>\n",
       "  </tbody>\n",
       "</table>\n",
       "</div>"
      ],
      "text/plain": [
       "   Unnamed: 0 default student      balance       income\n",
       "0           1      No      No   729.526495  44361.62507\n",
       "1           2      No     Yes   817.180407  12106.13470\n",
       "2           3      No      No  1073.549164  31767.13895\n",
       "3           4      No      No   529.250605  35704.49394\n",
       "4           5      No      No   785.655883  38463.49588"
      ]
     },
     "execution_count": 330,
     "metadata": {},
     "output_type": "execute_result"
    }
   ],
   "source": [
    "default.head()"
   ]
  },
  {
   "cell_type": "code",
   "execution_count": 331,
   "metadata": {
    "collapsed": false
   },
   "outputs": [
    {
     "data": {
      "text/html": [
       "<div>\n",
       "<table border=\"1\" class=\"dataframe\">\n",
       "  <thead>\n",
       "    <tr style=\"text-align: right;\">\n",
       "      <th></th>\n",
       "      <th>balance</th>\n",
       "      <th>income</th>\n",
       "    </tr>\n",
       "  </thead>\n",
       "  <tbody>\n",
       "    <tr>\n",
       "      <th>0</th>\n",
       "      <td>729.526495</td>\n",
       "      <td>44361.62507</td>\n",
       "    </tr>\n",
       "    <tr>\n",
       "      <th>1</th>\n",
       "      <td>817.180407</td>\n",
       "      <td>12106.13470</td>\n",
       "    </tr>\n",
       "    <tr>\n",
       "      <th>2</th>\n",
       "      <td>1073.549164</td>\n",
       "      <td>31767.13895</td>\n",
       "    </tr>\n",
       "    <tr>\n",
       "      <th>3</th>\n",
       "      <td>529.250605</td>\n",
       "      <td>35704.49394</td>\n",
       "    </tr>\n",
       "    <tr>\n",
       "      <th>4</th>\n",
       "      <td>785.655883</td>\n",
       "      <td>38463.49588</td>\n",
       "    </tr>\n",
       "  </tbody>\n",
       "</table>\n",
       "</div>"
      ],
      "text/plain": [
       "       balance       income\n",
       "0   729.526495  44361.62507\n",
       "1   817.180407  12106.13470\n",
       "2  1073.549164  31767.13895\n",
       "3   529.250605  35704.49394\n",
       "4   785.655883  38463.49588"
      ]
     },
     "execution_count": 331,
     "metadata": {},
     "output_type": "execute_result"
    }
   ],
   "source": [
    "X = default.loc[:,\"balance\":\"income\"]\n",
    "X.head()"
   ]
  },
  {
   "cell_type": "code",
   "execution_count": 332,
   "metadata": {
    "collapsed": false
   },
   "outputs": [
    {
     "name": "stdout",
     "output_type": "stream",
     "text": [
      "(10000,)\n"
     ]
    },
    {
     "data": {
      "text/plain": [
       "0    No\n",
       "1    No\n",
       "2    No\n",
       "3    No\n",
       "4    No\n",
       "Name: default, dtype: object"
      ]
     },
     "execution_count": 332,
     "metadata": {},
     "output_type": "execute_result"
    }
   ],
   "source": [
    "y = default[\"default\"]\n",
    "print(y.shape)\n",
    "y.head()"
   ]
  },
  {
   "cell_type": "markdown",
   "metadata": {},
   "source": [
    "### With default train/test split (75% train, 25% test)"
   ]
  },
  {
   "cell_type": "code",
   "execution_count": 333,
   "metadata": {
    "collapsed": false
   },
   "outputs": [],
   "source": [
    "from sklearn.model_selection import train_test_split\n",
    "X_train, X_test, y_train, y_test = train_test_split(X, y)"
   ]
  },
  {
   "cell_type": "code",
   "execution_count": 334,
   "metadata": {
    "collapsed": false
   },
   "outputs": [
    {
     "data": {
      "text/plain": [
       "LogisticRegression(C=1.0, class_weight=None, dual=False, fit_intercept=True,\n",
       "          intercept_scaling=1, max_iter=100, multi_class='ovr', n_jobs=1,\n",
       "          penalty='l2', random_state=None, solver='liblinear', tol=0.0001,\n",
       "          verbose=0, warm_start=False)"
      ]
     },
     "execution_count": 334,
     "metadata": {},
     "output_type": "execute_result"
    }
   ],
   "source": [
    "logistic_regr = LogisticRegression()\n",
    "logistic_regr.fit(X_train, y_train)"
   ]
  },
  {
   "cell_type": "code",
   "execution_count": 335,
   "metadata": {
    "collapsed": true
   },
   "outputs": [],
   "source": [
    "logistic_results = logistic_regr.predict(X_test)"
   ]
  },
  {
   "cell_type": "code",
   "execution_count": 336,
   "metadata": {
    "collapsed": false
   },
   "outputs": [
    {
     "data": {
      "text/plain": [
       "(2500,)"
      ]
     },
     "execution_count": 336,
     "metadata": {},
     "output_type": "execute_result"
    }
   ],
   "source": [
    "logistic_results.shape"
   ]
  },
  {
   "cell_type": "code",
   "execution_count": 337,
   "metadata": {
    "collapsed": false
   },
   "outputs": [
    {
     "data": {
      "text/plain": [
       "(2500,)"
      ]
     },
     "execution_count": 337,
     "metadata": {},
     "output_type": "execute_result"
    }
   ],
   "source": [
    "y_test.shape"
   ]
  },
  {
   "cell_type": "code",
   "execution_count": 338,
   "metadata": {
    "collapsed": false
   },
   "outputs": [],
   "source": [
    "y_test = pd.Series(y_test)"
   ]
  },
  {
   "cell_type": "code",
   "execution_count": 339,
   "metadata": {
    "collapsed": false
   },
   "outputs": [
    {
     "name": "stdout",
     "output_type": "stream",
     "text": [
      "0.9644\n"
     ]
    }
   ],
   "source": [
    "from sklearn.metrics import accuracy_score\n",
    "accuracy = accuracy_score(y_test, logistic_results)\n",
    "print(accuracy)"
   ]
  },
  {
   "cell_type": "code",
   "execution_count": 340,
   "metadata": {
    "collapsed": false
   },
   "outputs": [
    {
     "name": "stdout",
     "output_type": "stream",
     "text": [
      "Validation error:  0.0356\n"
     ]
    }
   ],
   "source": [
    "print(\"Validation error: \", 1-accuracy)"
   ]
  },
  {
   "cell_type": "markdown",
   "metadata": {},
   "source": [
    "## Now with 3 different data splits"
   ]
  },
  {
   "cell_type": "markdown",
   "metadata": {},
   "source": [
    "### First, I will try a 50-50 train test split"
   ]
  },
  {
   "cell_type": "code",
   "execution_count": 341,
   "metadata": {
    "collapsed": true
   },
   "outputs": [],
   "source": [
    "X_train, X_test, y_train, y_test = train_test_split(X, y, test_size = 0.5)"
   ]
  },
  {
   "cell_type": "code",
   "execution_count": 342,
   "metadata": {
    "collapsed": false
   },
   "outputs": [
    {
     "data": {
      "text/plain": [
       "((5000, 2), (5000, 2))"
      ]
     },
     "execution_count": 342,
     "metadata": {},
     "output_type": "execute_result"
    }
   ],
   "source": [
    "X_train.shape, X_test.shape"
   ]
  },
  {
   "cell_type": "code",
   "execution_count": 343,
   "metadata": {
    "collapsed": true
   },
   "outputs": [],
   "source": [
    "logistic_regr = LogisticRegression()\n",
    "logistic_regr.fit(X_train, y_train)\n",
    "logistic_results = logistic_regr.predict(X_test)"
   ]
  },
  {
   "cell_type": "code",
   "execution_count": 344,
   "metadata": {
    "collapsed": false
   },
   "outputs": [
    {
     "data": {
      "text/plain": [
       "0.96579999999999999"
      ]
     },
     "execution_count": 344,
     "metadata": {},
     "output_type": "execute_result"
    }
   ],
   "source": [
    "accuracy = accuracy_score(y_test, logistic_results)\n",
    "accuracy"
   ]
  },
  {
   "cell_type": "code",
   "execution_count": 345,
   "metadata": {
    "collapsed": false
   },
   "outputs": [
    {
     "name": "stdout",
     "output_type": "stream",
     "text": [
      "Validation error:  0.0342\n"
     ]
    }
   ],
   "source": [
    "print(\"Validation error: \", 1-accuracy)"
   ]
  },
  {
   "cell_type": "markdown",
   "metadata": {},
   "source": [
    "### Now, I will try a 65% train - 35% test split"
   ]
  },
  {
   "cell_type": "code",
   "execution_count": 346,
   "metadata": {
    "collapsed": false
   },
   "outputs": [
    {
     "data": {
      "text/plain": [
       "((6500, 2), (3500, 2))"
      ]
     },
     "execution_count": 346,
     "metadata": {},
     "output_type": "execute_result"
    }
   ],
   "source": [
    "X_train, X_test, y_train, y_test = train_test_split(X, y, test_size = 0.35)\n",
    "X_train.shape, X_test.shape"
   ]
  },
  {
   "cell_type": "code",
   "execution_count": 347,
   "metadata": {
    "collapsed": false
   },
   "outputs": [
    {
     "data": {
      "text/plain": [
       "0.96799999999999997"
      ]
     },
     "execution_count": 347,
     "metadata": {},
     "output_type": "execute_result"
    }
   ],
   "source": [
    "logistic_regr = LogisticRegression()\n",
    "logistic_regr.fit(X_train, y_train)\n",
    "logistic_results = logistic_regr.predict(X_test)\n",
    "accuracy = accuracy_score(y_test, logistic_results)\n",
    "accuracy"
   ]
  },
  {
   "cell_type": "code",
   "execution_count": 348,
   "metadata": {
    "collapsed": false
   },
   "outputs": [
    {
     "name": "stdout",
     "output_type": "stream",
     "text": [
      "Validation error:  0.032\n"
     ]
    }
   ],
   "source": [
    "print(\"Validation error: \", 1-accuracy)"
   ]
  },
  {
   "cell_type": "markdown",
   "metadata": {},
   "source": [
    "### Finally I will try a 35% train - 65% test split"
   ]
  },
  {
   "cell_type": "code",
   "execution_count": 349,
   "metadata": {
    "collapsed": false
   },
   "outputs": [
    {
     "data": {
      "text/plain": [
       "((3500, 2), (6500, 2))"
      ]
     },
     "execution_count": 349,
     "metadata": {},
     "output_type": "execute_result"
    }
   ],
   "source": [
    "X_train, X_test, y_train, y_test = train_test_split(X, y, test_size = 0.65)\n",
    "X_train.shape, X_test.shape"
   ]
  },
  {
   "cell_type": "code",
   "execution_count": 350,
   "metadata": {
    "collapsed": false
   },
   "outputs": [
    {
     "data": {
      "text/plain": [
       "0.96769230769230774"
      ]
     },
     "execution_count": 350,
     "metadata": {},
     "output_type": "execute_result"
    }
   ],
   "source": [
    "logistic_regr = LogisticRegression()\n",
    "logistic_regr.fit(X_train, y_train)\n",
    "logistic_results = logistic_regr.predict(X_test)\n",
    "accuracy = accuracy_score(y_test, logistic_results)\n",
    "accuracy"
   ]
  },
  {
   "cell_type": "code",
   "execution_count": 351,
   "metadata": {
    "collapsed": false
   },
   "outputs": [
    {
     "name": "stdout",
     "output_type": "stream",
     "text": [
      "Validation error:  0.0323076923077\n"
     ]
    }
   ],
   "source": [
    "print(\"Validation error: \", 1-accuracy)"
   ]
  },
  {
   "cell_type": "markdown",
   "metadata": {
    "collapsed": true
   },
   "source": [
    "** Comment on results **"
   ]
  },
  {
   "cell_type": "markdown",
   "metadata": {},
   "source": [
    "Using dummy variable for student"
   ]
  },
  {
   "cell_type": "code",
   "execution_count": 352,
   "metadata": {
    "collapsed": false
   },
   "outputs": [
    {
     "data": {
      "text/html": [
       "<div>\n",
       "<table border=\"1\" class=\"dataframe\">\n",
       "  <thead>\n",
       "    <tr style=\"text-align: right;\">\n",
       "      <th></th>\n",
       "      <th>student</th>\n",
       "      <th>balance</th>\n",
       "      <th>income</th>\n",
       "    </tr>\n",
       "  </thead>\n",
       "  <tbody>\n",
       "    <tr>\n",
       "      <th>0</th>\n",
       "      <td>No</td>\n",
       "      <td>729.526495</td>\n",
       "      <td>44361.62507</td>\n",
       "    </tr>\n",
       "    <tr>\n",
       "      <th>1</th>\n",
       "      <td>Yes</td>\n",
       "      <td>817.180407</td>\n",
       "      <td>12106.13470</td>\n",
       "    </tr>\n",
       "    <tr>\n",
       "      <th>2</th>\n",
       "      <td>No</td>\n",
       "      <td>1073.549164</td>\n",
       "      <td>31767.13895</td>\n",
       "    </tr>\n",
       "    <tr>\n",
       "      <th>3</th>\n",
       "      <td>No</td>\n",
       "      <td>529.250605</td>\n",
       "      <td>35704.49394</td>\n",
       "    </tr>\n",
       "    <tr>\n",
       "      <th>4</th>\n",
       "      <td>No</td>\n",
       "      <td>785.655883</td>\n",
       "      <td>38463.49588</td>\n",
       "    </tr>\n",
       "  </tbody>\n",
       "</table>\n",
       "</div>"
      ],
      "text/plain": [
       "  student      balance       income\n",
       "0      No   729.526495  44361.62507\n",
       "1     Yes   817.180407  12106.13470\n",
       "2      No  1073.549164  31767.13895\n",
       "3      No   529.250605  35704.49394\n",
       "4      No   785.655883  38463.49588"
      ]
     },
     "execution_count": 352,
     "metadata": {},
     "output_type": "execute_result"
    }
   ],
   "source": [
    "X2 = default.loc[:,\"student\" :\"income\"]\n",
    "X2.head()"
   ]
  },
  {
   "cell_type": "code",
   "execution_count": 353,
   "metadata": {
    "collapsed": false
   },
   "outputs": [
    {
     "data": {
      "text/html": [
       "<div>\n",
       "<table border=\"1\" class=\"dataframe\">\n",
       "  <thead>\n",
       "    <tr style=\"text-align: right;\">\n",
       "      <th></th>\n",
       "      <th>balance</th>\n",
       "      <th>income</th>\n",
       "      <th>student_No</th>\n",
       "      <th>student_Yes</th>\n",
       "    </tr>\n",
       "  </thead>\n",
       "  <tbody>\n",
       "    <tr>\n",
       "      <th>0</th>\n",
       "      <td>729.526495</td>\n",
       "      <td>44361.62507</td>\n",
       "      <td>1</td>\n",
       "      <td>0</td>\n",
       "    </tr>\n",
       "    <tr>\n",
       "      <th>1</th>\n",
       "      <td>817.180407</td>\n",
       "      <td>12106.13470</td>\n",
       "      <td>0</td>\n",
       "      <td>1</td>\n",
       "    </tr>\n",
       "    <tr>\n",
       "      <th>2</th>\n",
       "      <td>1073.549164</td>\n",
       "      <td>31767.13895</td>\n",
       "      <td>1</td>\n",
       "      <td>0</td>\n",
       "    </tr>\n",
       "    <tr>\n",
       "      <th>3</th>\n",
       "      <td>529.250605</td>\n",
       "      <td>35704.49394</td>\n",
       "      <td>1</td>\n",
       "      <td>0</td>\n",
       "    </tr>\n",
       "    <tr>\n",
       "      <th>4</th>\n",
       "      <td>785.655883</td>\n",
       "      <td>38463.49588</td>\n",
       "      <td>1</td>\n",
       "      <td>0</td>\n",
       "    </tr>\n",
       "  </tbody>\n",
       "</table>\n",
       "</div>"
      ],
      "text/plain": [
       "       balance       income  student_No  student_Yes\n",
       "0   729.526495  44361.62507           1            0\n",
       "1   817.180407  12106.13470           0            1\n",
       "2  1073.549164  31767.13895           1            0\n",
       "3   529.250605  35704.49394           1            0\n",
       "4   785.655883  38463.49588           1            0"
      ]
     },
     "execution_count": 353,
     "metadata": {},
     "output_type": "execute_result"
    }
   ],
   "source": [
    "X2=  pd.get_dummies(X2, columns = {\"student\"})\n",
    "X2.head()"
   ]
  },
  {
   "cell_type": "code",
   "execution_count": 354,
   "metadata": {
    "collapsed": false
   },
   "outputs": [
    {
     "data": {
      "text/plain": [
       "((7500, 4), (2500, 4))"
      ]
     },
     "execution_count": 354,
     "metadata": {},
     "output_type": "execute_result"
    }
   ],
   "source": [
    "X_train, X_test, y_train, y_test = train_test_split(X2, y, test_size = 0.25)\n",
    "X_train.shape, X_test.shape"
   ]
  },
  {
   "cell_type": "code",
   "execution_count": 355,
   "metadata": {
    "collapsed": false
   },
   "outputs": [
    {
     "data": {
      "text/plain": [
       "0.96719999999999995"
      ]
     },
     "execution_count": 355,
     "metadata": {},
     "output_type": "execute_result"
    }
   ],
   "source": [
    "logistic_regr = LogisticRegression()\n",
    "logistic_regr.fit(X_train, y_train)\n",
    "logistic_results = logistic_regr.predict(X_test)\n",
    "accuracy = accuracy_score(y_test, logistic_results)\n",
    "accuracy"
   ]
  },
  {
   "cell_type": "markdown",
   "metadata": {},
   "source": [
    "The original 75-25 split without including student data had an accuracy of .95. So there is a negligible improvement when including the student infromation. "
   ]
  },
  {
   "cell_type": "markdown",
   "metadata": {},
   "source": [
    "## Chapter 6 Problem 9"
   ]
  },
  {
   "cell_type": "code",
   "execution_count": 356,
   "metadata": {
    "collapsed": false
   },
   "outputs": [
    {
     "data": {
      "text/html": [
       "<div>\n",
       "<table border=\"1\" class=\"dataframe\">\n",
       "  <thead>\n",
       "    <tr style=\"text-align: right;\">\n",
       "      <th></th>\n",
       "      <th>Unnamed: 0</th>\n",
       "      <th>Private</th>\n",
       "      <th>Apps</th>\n",
       "      <th>Accept</th>\n",
       "      <th>Enroll</th>\n",
       "      <th>Top10perc</th>\n",
       "      <th>Top25perc</th>\n",
       "      <th>F.Undergrad</th>\n",
       "      <th>P.Undergrad</th>\n",
       "      <th>Outstate</th>\n",
       "      <th>Room.Board</th>\n",
       "      <th>Books</th>\n",
       "      <th>Personal</th>\n",
       "      <th>PhD</th>\n",
       "      <th>Terminal</th>\n",
       "      <th>S.F.Ratio</th>\n",
       "      <th>perc.alumni</th>\n",
       "      <th>Expend</th>\n",
       "      <th>Grad.Rate</th>\n",
       "    </tr>\n",
       "  </thead>\n",
       "  <tbody>\n",
       "    <tr>\n",
       "      <th>0</th>\n",
       "      <td>Abilene Christian University</td>\n",
       "      <td>Yes</td>\n",
       "      <td>1660</td>\n",
       "      <td>1232</td>\n",
       "      <td>721</td>\n",
       "      <td>23</td>\n",
       "      <td>52</td>\n",
       "      <td>2885</td>\n",
       "      <td>537</td>\n",
       "      <td>7440</td>\n",
       "      <td>3300</td>\n",
       "      <td>450</td>\n",
       "      <td>2200</td>\n",
       "      <td>70</td>\n",
       "      <td>78</td>\n",
       "      <td>18.1</td>\n",
       "      <td>12</td>\n",
       "      <td>7041</td>\n",
       "      <td>60</td>\n",
       "    </tr>\n",
       "    <tr>\n",
       "      <th>1</th>\n",
       "      <td>Adelphi University</td>\n",
       "      <td>Yes</td>\n",
       "      <td>2186</td>\n",
       "      <td>1924</td>\n",
       "      <td>512</td>\n",
       "      <td>16</td>\n",
       "      <td>29</td>\n",
       "      <td>2683</td>\n",
       "      <td>1227</td>\n",
       "      <td>12280</td>\n",
       "      <td>6450</td>\n",
       "      <td>750</td>\n",
       "      <td>1500</td>\n",
       "      <td>29</td>\n",
       "      <td>30</td>\n",
       "      <td>12.2</td>\n",
       "      <td>16</td>\n",
       "      <td>10527</td>\n",
       "      <td>56</td>\n",
       "    </tr>\n",
       "    <tr>\n",
       "      <th>2</th>\n",
       "      <td>Adrian College</td>\n",
       "      <td>Yes</td>\n",
       "      <td>1428</td>\n",
       "      <td>1097</td>\n",
       "      <td>336</td>\n",
       "      <td>22</td>\n",
       "      <td>50</td>\n",
       "      <td>1036</td>\n",
       "      <td>99</td>\n",
       "      <td>11250</td>\n",
       "      <td>3750</td>\n",
       "      <td>400</td>\n",
       "      <td>1165</td>\n",
       "      <td>53</td>\n",
       "      <td>66</td>\n",
       "      <td>12.9</td>\n",
       "      <td>30</td>\n",
       "      <td>8735</td>\n",
       "      <td>54</td>\n",
       "    </tr>\n",
       "    <tr>\n",
       "      <th>3</th>\n",
       "      <td>Agnes Scott College</td>\n",
       "      <td>Yes</td>\n",
       "      <td>417</td>\n",
       "      <td>349</td>\n",
       "      <td>137</td>\n",
       "      <td>60</td>\n",
       "      <td>89</td>\n",
       "      <td>510</td>\n",
       "      <td>63</td>\n",
       "      <td>12960</td>\n",
       "      <td>5450</td>\n",
       "      <td>450</td>\n",
       "      <td>875</td>\n",
       "      <td>92</td>\n",
       "      <td>97</td>\n",
       "      <td>7.7</td>\n",
       "      <td>37</td>\n",
       "      <td>19016</td>\n",
       "      <td>59</td>\n",
       "    </tr>\n",
       "    <tr>\n",
       "      <th>4</th>\n",
       "      <td>Alaska Pacific University</td>\n",
       "      <td>Yes</td>\n",
       "      <td>193</td>\n",
       "      <td>146</td>\n",
       "      <td>55</td>\n",
       "      <td>16</td>\n",
       "      <td>44</td>\n",
       "      <td>249</td>\n",
       "      <td>869</td>\n",
       "      <td>7560</td>\n",
       "      <td>4120</td>\n",
       "      <td>800</td>\n",
       "      <td>1500</td>\n",
       "      <td>76</td>\n",
       "      <td>72</td>\n",
       "      <td>11.9</td>\n",
       "      <td>2</td>\n",
       "      <td>10922</td>\n",
       "      <td>15</td>\n",
       "    </tr>\n",
       "  </tbody>\n",
       "</table>\n",
       "</div>"
      ],
      "text/plain": [
       "                     Unnamed: 0 Private  Apps  Accept  Enroll  Top10perc  \\\n",
       "0  Abilene Christian University     Yes  1660    1232     721         23   \n",
       "1            Adelphi University     Yes  2186    1924     512         16   \n",
       "2                Adrian College     Yes  1428    1097     336         22   \n",
       "3           Agnes Scott College     Yes   417     349     137         60   \n",
       "4     Alaska Pacific University     Yes   193     146      55         16   \n",
       "\n",
       "   Top25perc  F.Undergrad  P.Undergrad  Outstate  Room.Board  Books  Personal  \\\n",
       "0         52         2885          537      7440        3300    450      2200   \n",
       "1         29         2683         1227     12280        6450    750      1500   \n",
       "2         50         1036           99     11250        3750    400      1165   \n",
       "3         89          510           63     12960        5450    450       875   \n",
       "4         44          249          869      7560        4120    800      1500   \n",
       "\n",
       "   PhD  Terminal  S.F.Ratio  perc.alumni  Expend  Grad.Rate  \n",
       "0   70        78       18.1           12    7041         60  \n",
       "1   29        30       12.2           16   10527         56  \n",
       "2   53        66       12.9           30    8735         54  \n",
       "3   92        97        7.7           37   19016         59  \n",
       "4   76        72       11.9            2   10922         15  "
      ]
     },
     "execution_count": 356,
     "metadata": {},
     "output_type": "execute_result"
    }
   ],
   "source": [
    "college = pd.read_csv(\"College.csv\")\n",
    "college.shape\n",
    "college.head()"
   ]
  },
  {
   "cell_type": "code",
   "execution_count": 357,
   "metadata": {
    "collapsed": false
   },
   "outputs": [],
   "source": [
    "X = college.drop(\"Apps\", axis=1)\n",
    "y = college[\"Apps\"]\n",
    "X = X.loc[:, \"Private\":\"Grad.Rate\"]"
   ]
  },
  {
   "cell_type": "code",
   "execution_count": 358,
   "metadata": {
    "collapsed": false
   },
   "outputs": [
    {
     "data": {
      "text/html": [
       "<div>\n",
       "<table border=\"1\" class=\"dataframe\">\n",
       "  <thead>\n",
       "    <tr style=\"text-align: right;\">\n",
       "      <th></th>\n",
       "      <th>Private</th>\n",
       "      <th>Accept</th>\n",
       "      <th>Enroll</th>\n",
       "      <th>Top10perc</th>\n",
       "      <th>Top25perc</th>\n",
       "      <th>F.Undergrad</th>\n",
       "      <th>P.Undergrad</th>\n",
       "      <th>Outstate</th>\n",
       "      <th>Room.Board</th>\n",
       "      <th>Books</th>\n",
       "      <th>Personal</th>\n",
       "      <th>PhD</th>\n",
       "      <th>Terminal</th>\n",
       "      <th>S.F.Ratio</th>\n",
       "      <th>perc.alumni</th>\n",
       "      <th>Expend</th>\n",
       "      <th>Grad.Rate</th>\n",
       "    </tr>\n",
       "  </thead>\n",
       "  <tbody>\n",
       "    <tr>\n",
       "      <th>0</th>\n",
       "      <td>Yes</td>\n",
       "      <td>1232</td>\n",
       "      <td>721</td>\n",
       "      <td>23</td>\n",
       "      <td>52</td>\n",
       "      <td>2885</td>\n",
       "      <td>537</td>\n",
       "      <td>7440</td>\n",
       "      <td>3300</td>\n",
       "      <td>450</td>\n",
       "      <td>2200</td>\n",
       "      <td>70</td>\n",
       "      <td>78</td>\n",
       "      <td>18.1</td>\n",
       "      <td>12</td>\n",
       "      <td>7041</td>\n",
       "      <td>60</td>\n",
       "    </tr>\n",
       "    <tr>\n",
       "      <th>1</th>\n",
       "      <td>Yes</td>\n",
       "      <td>1924</td>\n",
       "      <td>512</td>\n",
       "      <td>16</td>\n",
       "      <td>29</td>\n",
       "      <td>2683</td>\n",
       "      <td>1227</td>\n",
       "      <td>12280</td>\n",
       "      <td>6450</td>\n",
       "      <td>750</td>\n",
       "      <td>1500</td>\n",
       "      <td>29</td>\n",
       "      <td>30</td>\n",
       "      <td>12.2</td>\n",
       "      <td>16</td>\n",
       "      <td>10527</td>\n",
       "      <td>56</td>\n",
       "    </tr>\n",
       "    <tr>\n",
       "      <th>2</th>\n",
       "      <td>Yes</td>\n",
       "      <td>1097</td>\n",
       "      <td>336</td>\n",
       "      <td>22</td>\n",
       "      <td>50</td>\n",
       "      <td>1036</td>\n",
       "      <td>99</td>\n",
       "      <td>11250</td>\n",
       "      <td>3750</td>\n",
       "      <td>400</td>\n",
       "      <td>1165</td>\n",
       "      <td>53</td>\n",
       "      <td>66</td>\n",
       "      <td>12.9</td>\n",
       "      <td>30</td>\n",
       "      <td>8735</td>\n",
       "      <td>54</td>\n",
       "    </tr>\n",
       "    <tr>\n",
       "      <th>3</th>\n",
       "      <td>Yes</td>\n",
       "      <td>349</td>\n",
       "      <td>137</td>\n",
       "      <td>60</td>\n",
       "      <td>89</td>\n",
       "      <td>510</td>\n",
       "      <td>63</td>\n",
       "      <td>12960</td>\n",
       "      <td>5450</td>\n",
       "      <td>450</td>\n",
       "      <td>875</td>\n",
       "      <td>92</td>\n",
       "      <td>97</td>\n",
       "      <td>7.7</td>\n",
       "      <td>37</td>\n",
       "      <td>19016</td>\n",
       "      <td>59</td>\n",
       "    </tr>\n",
       "    <tr>\n",
       "      <th>4</th>\n",
       "      <td>Yes</td>\n",
       "      <td>146</td>\n",
       "      <td>55</td>\n",
       "      <td>16</td>\n",
       "      <td>44</td>\n",
       "      <td>249</td>\n",
       "      <td>869</td>\n",
       "      <td>7560</td>\n",
       "      <td>4120</td>\n",
       "      <td>800</td>\n",
       "      <td>1500</td>\n",
       "      <td>76</td>\n",
       "      <td>72</td>\n",
       "      <td>11.9</td>\n",
       "      <td>2</td>\n",
       "      <td>10922</td>\n",
       "      <td>15</td>\n",
       "    </tr>\n",
       "  </tbody>\n",
       "</table>\n",
       "</div>"
      ],
      "text/plain": [
       "  Private  Accept  Enroll  Top10perc  Top25perc  F.Undergrad  P.Undergrad  \\\n",
       "0     Yes    1232     721         23         52         2885          537   \n",
       "1     Yes    1924     512         16         29         2683         1227   \n",
       "2     Yes    1097     336         22         50         1036           99   \n",
       "3     Yes     349     137         60         89          510           63   \n",
       "4     Yes     146      55         16         44          249          869   \n",
       "\n",
       "   Outstate  Room.Board  Books  Personal  PhD  Terminal  S.F.Ratio  \\\n",
       "0      7440        3300    450      2200   70        78       18.1   \n",
       "1     12280        6450    750      1500   29        30       12.2   \n",
       "2     11250        3750    400      1165   53        66       12.9   \n",
       "3     12960        5450    450       875   92        97        7.7   \n",
       "4      7560        4120    800      1500   76        72       11.9   \n",
       "\n",
       "   perc.alumni  Expend  Grad.Rate  \n",
       "0           12    7041         60  \n",
       "1           16   10527         56  \n",
       "2           30    8735         54  \n",
       "3           37   19016         59  \n",
       "4            2   10922         15  "
      ]
     },
     "execution_count": 358,
     "metadata": {},
     "output_type": "execute_result"
    }
   ],
   "source": [
    "X.head()"
   ]
  },
  {
   "cell_type": "code",
   "execution_count": 359,
   "metadata": {
    "collapsed": false
   },
   "outputs": [
    {
     "data": {
      "text/html": [
       "<div>\n",
       "<table border=\"1\" class=\"dataframe\">\n",
       "  <thead>\n",
       "    <tr style=\"text-align: right;\">\n",
       "      <th></th>\n",
       "      <th>Accept</th>\n",
       "      <th>Enroll</th>\n",
       "      <th>Top10perc</th>\n",
       "      <th>Top25perc</th>\n",
       "      <th>F.Undergrad</th>\n",
       "      <th>P.Undergrad</th>\n",
       "      <th>Outstate</th>\n",
       "      <th>Room.Board</th>\n",
       "      <th>Books</th>\n",
       "      <th>Personal</th>\n",
       "      <th>PhD</th>\n",
       "      <th>Terminal</th>\n",
       "      <th>S.F.Ratio</th>\n",
       "      <th>perc.alumni</th>\n",
       "      <th>Expend</th>\n",
       "      <th>Grad.Rate</th>\n",
       "      <th>Private_No</th>\n",
       "      <th>Private_Yes</th>\n",
       "    </tr>\n",
       "  </thead>\n",
       "  <tbody>\n",
       "    <tr>\n",
       "      <th>0</th>\n",
       "      <td>1232</td>\n",
       "      <td>721</td>\n",
       "      <td>23</td>\n",
       "      <td>52</td>\n",
       "      <td>2885</td>\n",
       "      <td>537</td>\n",
       "      <td>7440</td>\n",
       "      <td>3300</td>\n",
       "      <td>450</td>\n",
       "      <td>2200</td>\n",
       "      <td>70</td>\n",
       "      <td>78</td>\n",
       "      <td>18.1</td>\n",
       "      <td>12</td>\n",
       "      <td>7041</td>\n",
       "      <td>60</td>\n",
       "      <td>0</td>\n",
       "      <td>1</td>\n",
       "    </tr>\n",
       "    <tr>\n",
       "      <th>1</th>\n",
       "      <td>1924</td>\n",
       "      <td>512</td>\n",
       "      <td>16</td>\n",
       "      <td>29</td>\n",
       "      <td>2683</td>\n",
       "      <td>1227</td>\n",
       "      <td>12280</td>\n",
       "      <td>6450</td>\n",
       "      <td>750</td>\n",
       "      <td>1500</td>\n",
       "      <td>29</td>\n",
       "      <td>30</td>\n",
       "      <td>12.2</td>\n",
       "      <td>16</td>\n",
       "      <td>10527</td>\n",
       "      <td>56</td>\n",
       "      <td>0</td>\n",
       "      <td>1</td>\n",
       "    </tr>\n",
       "    <tr>\n",
       "      <th>2</th>\n",
       "      <td>1097</td>\n",
       "      <td>336</td>\n",
       "      <td>22</td>\n",
       "      <td>50</td>\n",
       "      <td>1036</td>\n",
       "      <td>99</td>\n",
       "      <td>11250</td>\n",
       "      <td>3750</td>\n",
       "      <td>400</td>\n",
       "      <td>1165</td>\n",
       "      <td>53</td>\n",
       "      <td>66</td>\n",
       "      <td>12.9</td>\n",
       "      <td>30</td>\n",
       "      <td>8735</td>\n",
       "      <td>54</td>\n",
       "      <td>0</td>\n",
       "      <td>1</td>\n",
       "    </tr>\n",
       "    <tr>\n",
       "      <th>3</th>\n",
       "      <td>349</td>\n",
       "      <td>137</td>\n",
       "      <td>60</td>\n",
       "      <td>89</td>\n",
       "      <td>510</td>\n",
       "      <td>63</td>\n",
       "      <td>12960</td>\n",
       "      <td>5450</td>\n",
       "      <td>450</td>\n",
       "      <td>875</td>\n",
       "      <td>92</td>\n",
       "      <td>97</td>\n",
       "      <td>7.7</td>\n",
       "      <td>37</td>\n",
       "      <td>19016</td>\n",
       "      <td>59</td>\n",
       "      <td>0</td>\n",
       "      <td>1</td>\n",
       "    </tr>\n",
       "    <tr>\n",
       "      <th>4</th>\n",
       "      <td>146</td>\n",
       "      <td>55</td>\n",
       "      <td>16</td>\n",
       "      <td>44</td>\n",
       "      <td>249</td>\n",
       "      <td>869</td>\n",
       "      <td>7560</td>\n",
       "      <td>4120</td>\n",
       "      <td>800</td>\n",
       "      <td>1500</td>\n",
       "      <td>76</td>\n",
       "      <td>72</td>\n",
       "      <td>11.9</td>\n",
       "      <td>2</td>\n",
       "      <td>10922</td>\n",
       "      <td>15</td>\n",
       "      <td>0</td>\n",
       "      <td>1</td>\n",
       "    </tr>\n",
       "  </tbody>\n",
       "</table>\n",
       "</div>"
      ],
      "text/plain": [
       "   Accept  Enroll  Top10perc  Top25perc  F.Undergrad  P.Undergrad  Outstate  \\\n",
       "0    1232     721         23         52         2885          537      7440   \n",
       "1    1924     512         16         29         2683         1227     12280   \n",
       "2    1097     336         22         50         1036           99     11250   \n",
       "3     349     137         60         89          510           63     12960   \n",
       "4     146      55         16         44          249          869      7560   \n",
       "\n",
       "   Room.Board  Books  Personal  PhD  Terminal  S.F.Ratio  perc.alumni  Expend  \\\n",
       "0        3300    450      2200   70        78       18.1           12    7041   \n",
       "1        6450    750      1500   29        30       12.2           16   10527   \n",
       "2        3750    400      1165   53        66       12.9           30    8735   \n",
       "3        5450    450       875   92        97        7.7           37   19016   \n",
       "4        4120    800      1500   76        72       11.9            2   10922   \n",
       "\n",
       "   Grad.Rate  Private_No  Private_Yes  \n",
       "0         60           0            1  \n",
       "1         56           0            1  \n",
       "2         54           0            1  \n",
       "3         59           0            1  \n",
       "4         15           0            1  "
      ]
     },
     "execution_count": 359,
     "metadata": {},
     "output_type": "execute_result"
    }
   ],
   "source": [
    "X = pd.get_dummies(X, columns = [\"Private\"])\n",
    "X.head()"
   ]
  },
  {
   "cell_type": "code",
   "execution_count": 360,
   "metadata": {
    "collapsed": true
   },
   "outputs": [],
   "source": [
    "X_train, X_test, y_train, y_test = train_test_split(X, y)"
   ]
  },
  {
   "cell_type": "markdown",
   "metadata": {},
   "source": [
    "### Using Least Squares Regression"
   ]
  },
  {
   "cell_type": "code",
   "execution_count": 361,
   "metadata": {
    "collapsed": false
   },
   "outputs": [
    {
     "data": {
      "text/plain": [
       "LinearRegression(copy_X=True, fit_intercept=True, n_jobs=1, normalize=False)"
      ]
     },
     "execution_count": 361,
     "metadata": {},
     "output_type": "execute_result"
    }
   ],
   "source": [
    "ols = LinearRegression()\n",
    "ols.fit(X_train, y_train)"
   ]
  },
  {
   "cell_type": "code",
   "execution_count": 362,
   "metadata": {
    "collapsed": false
   },
   "outputs": [
    {
     "name": "stdout",
     "output_type": "stream",
     "text": [
      "1937495.65076\n"
     ]
    }
   ],
   "source": [
    "from sklearn.metrics import mean_squared_error\n",
    "test_error = mean_squared_error(y_test, ols.predict(X_test))\n",
    "print(test_error)"
   ]
  },
  {
   "cell_type": "markdown",
   "metadata": {},
   "source": [
    "### Using Ridge Regression Model with CV"
   ]
  },
  {
   "cell_type": "code",
   "execution_count": 363,
   "metadata": {
    "collapsed": true
   },
   "outputs": [],
   "source": [
    "from sklearn.linear_model import RidgeCV"
   ]
  },
  {
   "cell_type": "code",
   "execution_count": 364,
   "metadata": {
    "collapsed": false
   },
   "outputs": [
    {
     "data": {
      "text/plain": [
       "RidgeCV(alphas=(0.01, 0.1, 0.25, 0.5, 0.75, 1, 5, 10), cv=5,\n",
       "    fit_intercept=True, gcv_mode=None, normalize=False, scoring=None,\n",
       "    store_cv_values=False)"
      ]
     },
     "execution_count": 364,
     "metadata": {},
     "output_type": "execute_result"
    }
   ],
   "source": [
    "ridge = RidgeCV(alphas = (0.01, 0.1, 0.25, 0.5, 0.75, 1, 5, 10), cv=5)\n",
    "ridge.fit(X_train, y_train)"
   ]
  },
  {
   "cell_type": "code",
   "execution_count": 365,
   "metadata": {
    "collapsed": false
   },
   "outputs": [
    {
     "name": "stdout",
     "output_type": "stream",
     "text": [
      "1940897.56066\n"
     ]
    }
   ],
   "source": [
    "test_error = mean_squared_error(y_test, ridge.predict(X_test))\n",
    "print(test_error)"
   ]
  },
  {
   "cell_type": "markdown",
   "metadata": {},
   "source": [
    "### Using Lasso Regression with CV"
   ]
  },
  {
   "cell_type": "code",
   "execution_count": 366,
   "metadata": {
    "collapsed": true
   },
   "outputs": [],
   "source": [
    "from sklearn.linear_model import LassoCV"
   ]
  },
  {
   "cell_type": "code",
   "execution_count": 367,
   "metadata": {
    "collapsed": false
   },
   "outputs": [
    {
     "data": {
      "text/plain": [
       "LassoCV(alphas=(0.01, 0.1, 0.25, 0.5, 0.75, 1, 5, 10), copy_X=True, cv=5,\n",
       "    eps=0.001, fit_intercept=True, max_iter=1000, n_alphas=100, n_jobs=1,\n",
       "    normalize=False, positive=False, precompute='auto', random_state=None,\n",
       "    selection='cyclic', tol=0.0001, verbose=False)"
      ]
     },
     "execution_count": 367,
     "metadata": {},
     "output_type": "execute_result"
    }
   ],
   "source": [
    "lasso = LassoCV(alphas = (0.01, 0.1, 0.25, 0.5, 0.75, 1, 5, 10), cv=5)\n",
    "lasso.fit(X_train, y_train)"
   ]
  },
  {
   "cell_type": "code",
   "execution_count": 368,
   "metadata": {
    "collapsed": false
   },
   "outputs": [
    {
     "name": "stdout",
     "output_type": "stream",
     "text": [
      "1954605.32366\n"
     ]
    }
   ],
   "source": [
    "test_error = mean_squared_error(y_test, lasso.predict(X_test))\n",
    "print(test_error)"
   ]
  },
  {
   "cell_type": "code",
   "execution_count": 369,
   "metadata": {
    "collapsed": false
   },
   "outputs": [
    {
     "name": "stdout",
     "output_type": "stream",
     "text": [
      "[  1.69521372e+00  -1.25603372e+00   4.40146072e+01  -8.04604794e+00\n",
      "   7.96463516e-02   9.29587658e-02  -1.03174639e-01   1.50365606e-01\n",
      "   1.12976747e-01  -1.72720322e-02  -7.86928680e+00  -4.50398355e-01\n",
      "   8.53858113e+00  -1.49289917e+00   5.14422421e-02   7.47109360e+00\n",
      "   1.70751229e+02  -0.00000000e+00]\n",
      "There are 17 non-zero coefficients\n"
     ]
    }
   ],
   "source": [
    "count = 0\n",
    "for num in range(len(lasso.coef_)):\n",
    "    if lasso.coef_[num]==0.0:\n",
    "        count+=1\n",
    "print(lasso.coef_)\n",
    "print(\"There are\",len(lasso.coef_)-count, \"non-zero coefficients\")"
   ]
  },
  {
   "cell_type": "markdown",
   "metadata": {},
   "source": [
    "### Using PCR"
   ]
  },
  {
   "cell_type": "markdown",
   "metadata": {},
   "source": [
    "#### First doing PCA"
   ]
  },
  {
   "cell_type": "code",
   "execution_count": 370,
   "metadata": {
    "collapsed": false
   },
   "outputs": [],
   "source": [
    "from sklearn.decomposition import PCA\n",
    "from sklearn.preprocessing import scale\n",
    "from sklearn.model_selection import KFold, cross_val_score"
   ]
  },
  {
   "cell_type": "code",
   "execution_count": 371,
   "metadata": {
    "collapsed": true
   },
   "outputs": [],
   "source": [
    "pca = PCA()\n",
    "X_train, X_test, y_train, y_test = train_test_split(X, y)"
   ]
  },
  {
   "cell_type": "code",
   "execution_count": 372,
   "metadata": {
    "collapsed": false
   },
   "outputs": [],
   "source": [
    "X_reduced_train = pca.fit_transform(scale(X_train))"
   ]
  },
  {
   "cell_type": "code",
   "execution_count": 373,
   "metadata": {
    "collapsed": false
   },
   "outputs": [
    {
     "data": {
      "text/plain": [
       "array([ 32.14,  58.69,  65.4 ,  71.14,  76.35,  80.96,  84.44,  87.79,\n",
       "        90.86,  93.54,  95.7 ,  97.29,  98.34,  99.01,  99.52,  99.84,\n",
       "       100.  , 100.  ])"
      ]
     },
     "execution_count": 373,
     "metadata": {},
     "output_type": "execute_result"
    }
   ],
   "source": [
    "np.cumsum(np.round(pca.explained_variance_ratio_, decimals=4)*100)"
   ]
  },
  {
   "cell_type": "markdown",
   "metadata": {},
   "source": [
    "So it seems like the first 9 components explain most of the variance in the dataset (more than 90%)"
   ]
  },
  {
   "cell_type": "code",
   "execution_count": 374,
   "metadata": {
    "collapsed": false
   },
   "outputs": [],
   "source": [
    "n = len(X_reduced_train)\n",
    "kf_10 = KFold(n_splits = 10, shuffle = True)"
   ]
  },
  {
   "cell_type": "code",
   "execution_count": 375,
   "metadata": {
    "collapsed": true
   },
   "outputs": [],
   "source": [
    "mse = []\n",
    "regr = LinearRegression()"
   ]
  },
  {
   "cell_type": "code",
   "execution_count": 376,
   "metadata": {
    "collapsed": false
   },
   "outputs": [],
   "source": [
    "#Calculating PCA with only the intercept (no principal components in regression)\n",
    "score = -1*cross_val_score(regr, np.ones((n,1)), y_train.ravel(), cv=kf_10, scoring=\"neg_mean_squared_error\").mean()\n",
    "mse.append(score)"
   ]
  },
  {
   "cell_type": "code",
   "execution_count": 377,
   "metadata": {
    "collapsed": false
   },
   "outputs": [
    {
     "name": "stdout",
     "output_type": "stream",
     "text": [
      "18\n"
     ]
    }
   ],
   "source": [
    "print(len(pca.components_))"
   ]
  },
  {
   "cell_type": "markdown",
   "metadata": {},
   "source": [
    "There are 18 principal components in total"
   ]
  },
  {
   "cell_type": "code",
   "execution_count": 378,
   "metadata": {
    "collapsed": false
   },
   "outputs": [],
   "source": [
    "X_reduced = pca.fit_transform(scale(X), y)\n",
    "for i in np.arange(1, 19):\n",
    "    score = -1*cross_val_score(regr, X_reduced_train[:,:i], y_train.ravel(), cv=kf_10, scoring=\"neg_mean_squared_error\").mean()\n",
    "    mse.append(score)"
   ]
  },
  {
   "cell_type": "code",
   "execution_count": 379,
   "metadata": {
    "collapsed": false
   },
   "outputs": [
    {
     "data": {
      "image/png": "[encoded data removed]",
      "text/plain": [
       "<matplotlib.figure.Figure at 0x22b5b87b9e8>"
      ]
     },
     "metadata": {},
     "output_type": "display_data"
    }
   ],
   "source": [
    "fig = plt.figure()\n",
    "ax1 = fig.add_subplot(111)\n",
    "ax1.plot(mse, '-v')\n",
    "ax1.set_title(\"Principal Components Regression\")\n",
    "ax1.set_xlabel(\"Nujmber of principal components in regression\")\n",
    "ax1.set_ylabel('MSE')\n",
    "# ax2.plot(range(0, 19), mse, '-v')\n",
    "# ax2.set_title('Intercept excluded from plot')\n",
    "\n",
    "# for ax in fig.axes:\n",
    "#     ax.set_xlabel('Number of principal components in regression')\n",
    "#     ax.set_ylabel('MSE')\n",
    "#     ax.set_xlim((-0.2,5.2))\n",
    "\n",
    "plt.show()"
   ]
  },
  {
   "cell_type": "markdown",
   "metadata": {},
   "source": [
    "As seen in the above graph, the lowest MSE is when M=18. But this is almost same as doing regular least squares regression. There isn't any reduction going on.\n",
    "\n",
    "So, I decided to calculate the MSE for a value of M which would do some substantial reduction of the data. For M=6 till M=14, the MSE almost stays constant (there isn't much variation). I therefore decided on M=6 as if the MSE doesn't vary much, a lower dimension is preferred."
   ]
  },
  {
   "cell_type": "code",
   "execution_count": 380,
   "metadata": {
    "collapsed": false
   },
   "outputs": [
    {
     "data": {
      "text/plain": [
       "6243276.3274332006"
      ]
     },
     "execution_count": 380,
     "metadata": {},
     "output_type": "execute_result"
    }
   ],
   "source": [
    "X_reduced_test = pca.transform(scale(X_test))[:,:7]\n",
    "# Train regression model on training data\n",
    "regr = LinearRegression()\n",
    "regr.fit(X_reduced_train[:,:7], y_train)\n",
    "# Prediction with test data\n",
    "pred = regr.predict(X_reduced_test)\n",
    "mean_squared_error(y_test, pred)"
   ]
  },
  {
   "cell_type": "markdown",
   "metadata": {},
   "source": [
    "This MSE is the same magnitude as that of the Linear, Ridge, and Lasso regression models. However, it is substantial greater than them."
   ]
  },
  {
   "cell_type": "markdown",
   "metadata": {},
   "source": [
    "## Using Partial Least Squares"
   ]
  },
  {
   "cell_type": "code",
   "execution_count": 384,
   "metadata": {
    "collapsed": true
   },
   "outputs": [],
   "source": [
    "from sklearn.cross_decomposition import PLSRegression"
   ]
  },
  {
   "cell_type": "code",
   "execution_count": 385,
   "metadata": {
    "collapsed": false
   },
   "outputs": [],
   "source": [
    "mse = []\n",
    "kf_10 = KFold(n_splits=10, shuffle=True)"
   ]
  },
  {
   "cell_type": "code",
   "execution_count": 390,
   "metadata": {
    "collapsed": false
   },
   "outputs": [
    {
     "name": "stderr",
     "output_type": "stream",
     "text": [
      "C:\\Users\\Aditya Kharosekar\\Documents\\Anaconda\\lib\\site-packages\\sklearn\\cross_decomposition\\pls_.py:319: UserWarning: X scores are null at iteration 17\n",
      "  warnings.warn('X scores are null at iteration %s' % k)\n",
      "C:\\Users\\Aditya Kharosekar\\Documents\\Anaconda\\lib\\site-packages\\sklearn\\cross_decomposition\\pls_.py:319: UserWarning: X scores are null at iteration 17\n",
      "  warnings.warn('X scores are null at iteration %s' % k)\n",
      "C:\\Users\\Aditya Kharosekar\\Documents\\Anaconda\\lib\\site-packages\\sklearn\\cross_decomposition\\pls_.py:319: UserWarning: X scores are null at iteration 17\n",
      "  warnings.warn('X scores are null at iteration %s' % k)\n",
      "C:\\Users\\Aditya Kharosekar\\Documents\\Anaconda\\lib\\site-packages\\sklearn\\cross_decomposition\\pls_.py:319: UserWarning: X scores are null at iteration 17\n",
      "  warnings.warn('X scores are null at iteration %s' % k)\n",
      "C:\\Users\\Aditya Kharosekar\\Documents\\Anaconda\\lib\\site-packages\\sklearn\\cross_decomposition\\pls_.py:319: UserWarning: X scores are null at iteration 17\n",
      "  warnings.warn('X scores are null at iteration %s' % k)\n",
      "C:\\Users\\Aditya Kharosekar\\Documents\\Anaconda\\lib\\site-packages\\sklearn\\cross_decomposition\\pls_.py:319: UserWarning: X scores are null at iteration 17\n",
      "  warnings.warn('X scores are null at iteration %s' % k)\n",
      "C:\\Users\\Aditya Kharosekar\\Documents\\Anaconda\\lib\\site-packages\\sklearn\\cross_decomposition\\pls_.py:319: UserWarning: X scores are null at iteration 17\n",
      "  warnings.warn('X scores are null at iteration %s' % k)\n",
      "C:\\Users\\Aditya Kharosekar\\Documents\\Anaconda\\lib\\site-packages\\sklearn\\cross_decomposition\\pls_.py:319: UserWarning: X scores are null at iteration 17\n",
      "  warnings.warn('X scores are null at iteration %s' % k)\n",
      "C:\\Users\\Aditya Kharosekar\\Documents\\Anaconda\\lib\\site-packages\\sklearn\\cross_decomposition\\pls_.py:319: UserWarning: X scores are null at iteration 17\n",
      "  warnings.warn('X scores are null at iteration %s' % k)\n",
      "C:\\Users\\Aditya Kharosekar\\Documents\\Anaconda\\lib\\site-packages\\sklearn\\cross_decomposition\\pls_.py:319: UserWarning: X scores are null at iteration 17\n",
      "  warnings.warn('X scores are null at iteration %s' % k)\n",
      "C:\\Users\\Aditya Kharosekar\\Documents\\Anaconda\\lib\\site-packages\\sklearn\\cross_decomposition\\pls_.py:319: UserWarning: X scores are null at iteration 17\n",
      "  warnings.warn('X scores are null at iteration %s' % k)\n"
     ]
    },
    {
     "data": {
      "image/png": "[encoded data removed]",
      "text/plain": [
       "<matplotlib.figure.Figure at 0x22b5c1b7048>"
      ]
     },
     "metadata": {},
     "output_type": "display_data"
    }
   ],
   "source": [
    "X_train, X_test, y_train, y_test = train_test_split(X, y)\n",
    "for i in np.arange(1, 19):\n",
    "    pls = PLSRegression(n_components=i, scale=True)\n",
    "    pls.fit(X_train,y_train)\n",
    "    score = -1*cross_val_score(pls, X_test, y_test, cv=kf_10, scoring='neg_mean_squared_error').mean()\n",
    "    mse.append(score)\n",
    "    \n",
    "plt.plot(np.arange(0, 19), np.array(mse[0:19]), '-v')\n",
    "plt.xlabel('Number of principal components in PLS regression')\n",
    "plt.ylabel('MSE')\n",
    "plt.show()"
   ]
  },
  {
   "cell_type": "markdown",
   "metadata": {},
   "source": [
    "As seen in the above graph, the MSE is least when M=10"
   ]
  },
  {
   "cell_type": "code",
   "execution_count": 391,
   "metadata": {
    "collapsed": false
   },
   "outputs": [
    {
     "data": {
      "text/plain": [
       "PLSRegression(copy=True, max_iter=500, n_components=10, scale=True, tol=1e-06)"
      ]
     },
     "execution_count": 391,
     "metadata": {},
     "output_type": "execute_result"
    }
   ],
   "source": [
    "pls15 = PLSRegression(n_components = 10)\n",
    "pls15.fit(X_train, y_train)"
   ]
  },
  {
   "cell_type": "code",
   "execution_count": 392,
   "metadata": {
    "collapsed": false
   },
   "outputs": [
    {
     "data": {
      "text/plain": [
       "12402224.053573677"
      ]
     },
     "execution_count": 392,
     "metadata": {},
     "output_type": "execute_result"
    }
   ],
   "source": [
    "mean_squared_error(y_test, pls15.predict(X_test))"
   ]
  },
  {
   "cell_type": "code",
   "execution_count": null,
   "metadata": {
    "collapsed": true
   },
   "outputs": [],
   "source": [
    "pls7 = PLSRegression"
   ]
  },
  {
   "cell_type": "markdown",
   "metadata": {},
   "source": [
    "# Chapter 6 Question 11"
   ]
  },
  {
   "cell_type": "code",
   "execution_count": 393,
   "metadata": {
    "collapsed": true
   },
   "outputs": [],
   "source": [
    "boston = pd.read_csv(\"Boston.csv\")"
   ]
  },
  {
   "cell_type": "code",
   "execution_count": 394,
   "metadata": {
    "collapsed": false
   },
   "outputs": [
    {
     "data": {
      "text/html": [
       "<div>\n",
       "<table border=\"1\" class=\"dataframe\">\n",
       "  <thead>\n",
       "    <tr style=\"text-align: right;\">\n",
       "      <th></th>\n",
       "      <th>crim</th>\n",
       "      <th>zn</th>\n",
       "      <th>indus</th>\n",
       "      <th>chas</th>\n",
       "      <th>nox</th>\n",
       "      <th>rm</th>\n",
       "      <th>age</th>\n",
       "      <th>dis</th>\n",
       "      <th>rad</th>\n",
       "      <th>tax</th>\n",
       "      <th>ptratio</th>\n",
       "      <th>black</th>\n",
       "      <th>lstat</th>\n",
       "      <th>medv</th>\n",
       "    </tr>\n",
       "  </thead>\n",
       "  <tbody>\n",
       "    <tr>\n",
       "      <th>0</th>\n",
       "      <td>0.00632</td>\n",
       "      <td>18.0</td>\n",
       "      <td>2.31</td>\n",
       "      <td>0</td>\n",
       "      <td>0.538</td>\n",
       "      <td>6.575</td>\n",
       "      <td>65.2</td>\n",
       "      <td>4.0900</td>\n",
       "      <td>1</td>\n",
       "      <td>296</td>\n",
       "      <td>15.3</td>\n",
       "      <td>396.90</td>\n",
       "      <td>4.98</td>\n",
       "      <td>24.0</td>\n",
       "    </tr>\n",
       "    <tr>\n",
       "      <th>1</th>\n",
       "      <td>0.02731</td>\n",
       "      <td>0.0</td>\n",
       "      <td>7.07</td>\n",
       "      <td>0</td>\n",
       "      <td>0.469</td>\n",
       "      <td>6.421</td>\n",
       "      <td>78.9</td>\n",
       "      <td>4.9671</td>\n",
       "      <td>2</td>\n",
       "      <td>242</td>\n",
       "      <td>17.8</td>\n",
       "      <td>396.90</td>\n",
       "      <td>9.14</td>\n",
       "      <td>21.6</td>\n",
       "    </tr>\n",
       "    <tr>\n",
       "      <th>2</th>\n",
       "      <td>0.02729</td>\n",
       "      <td>0.0</td>\n",
       "      <td>7.07</td>\n",
       "      <td>0</td>\n",
       "      <td>0.469</td>\n",
       "      <td>7.185</td>\n",
       "      <td>61.1</td>\n",
       "      <td>4.9671</td>\n",
       "      <td>2</td>\n",
       "      <td>242</td>\n",
       "      <td>17.8</td>\n",
       "      <td>392.83</td>\n",
       "      <td>4.03</td>\n",
       "      <td>34.7</td>\n",
       "    </tr>\n",
       "    <tr>\n",
       "      <th>3</th>\n",
       "      <td>0.03237</td>\n",
       "      <td>0.0</td>\n",
       "      <td>2.18</td>\n",
       "      <td>0</td>\n",
       "      <td>0.458</td>\n",
       "      <td>6.998</td>\n",
       "      <td>45.8</td>\n",
       "      <td>6.0622</td>\n",
       "      <td>3</td>\n",
       "      <td>222</td>\n",
       "      <td>18.7</td>\n",
       "      <td>394.63</td>\n",
       "      <td>2.94</td>\n",
       "      <td>33.4</td>\n",
       "    </tr>\n",
       "    <tr>\n",
       "      <th>4</th>\n",
       "      <td>0.06905</td>\n",
       "      <td>0.0</td>\n",
       "      <td>2.18</td>\n",
       "      <td>0</td>\n",
       "      <td>0.458</td>\n",
       "      <td>7.147</td>\n",
       "      <td>54.2</td>\n",
       "      <td>6.0622</td>\n",
       "      <td>3</td>\n",
       "      <td>222</td>\n",
       "      <td>18.7</td>\n",
       "      <td>396.90</td>\n",
       "      <td>5.33</td>\n",
       "      <td>36.2</td>\n",
       "    </tr>\n",
       "  </tbody>\n",
       "</table>\n",
       "</div>"
      ],
      "text/plain": [
       "      crim    zn  indus  chas    nox     rm   age     dis  rad  tax  ptratio  \\\n",
       "0  0.00632  18.0   2.31     0  0.538  6.575  65.2  4.0900    1  296     15.3   \n",
       "1  0.02731   0.0   7.07     0  0.469  6.421  78.9  4.9671    2  242     17.8   \n",
       "2  0.02729   0.0   7.07     0  0.469  7.185  61.1  4.9671    2  242     17.8   \n",
       "3  0.03237   0.0   2.18     0  0.458  6.998  45.8  6.0622    3  222     18.7   \n",
       "4  0.06905   0.0   2.18     0  0.458  7.147  54.2  6.0622    3  222     18.7   \n",
       "\n",
       "    black  lstat  medv  \n",
       "0  396.90   4.98  24.0  \n",
       "1  396.90   9.14  21.6  \n",
       "2  392.83   4.03  34.7  \n",
       "3  394.63   2.94  33.4  \n",
       "4  396.90   5.33  36.2  "
      ]
     },
     "execution_count": 394,
     "metadata": {},
     "output_type": "execute_result"
    }
   ],
   "source": [
    "boston.head()"
   ]
  },
  {
   "cell_type": "code",
   "execution_count": 395,
   "metadata": {
    "collapsed": true
   },
   "outputs": [],
   "source": [
    "X = boston.loc[:, \"zn\":\"medv\"]\n",
    "y = boston[\"crim\"]\n",
    "X_train, X_test, y_train, y_test = train_test_split(X, y)"
   ]
  },
  {
   "cell_type": "markdown",
   "metadata": {},
   "source": [
    "## Trying Ridge Regression"
   ]
  },
  {
   "cell_type": "code",
   "execution_count": 396,
   "metadata": {
    "collapsed": false
   },
   "outputs": [
    {
     "data": {
      "text/plain": [
       "RidgeCV(alphas=(0.01, 0.1, 0.25, 0.5, 0.75, 1, 5, 10), cv=5,\n",
       "    fit_intercept=True, gcv_mode=None, normalize=False, scoring=None,\n",
       "    store_cv_values=False)"
      ]
     },
     "execution_count": 396,
     "metadata": {},
     "output_type": "execute_result"
    }
   ],
   "source": [
    "ridge = RidgeCV(alphas = (0.01, 0.1, 0.25, 0.5, 0.75, 1, 5, 10), cv=5)\n",
    "ridge.fit(X_train, y_train)"
   ]
  },
  {
   "cell_type": "code",
   "execution_count": 397,
   "metadata": {
    "collapsed": false
   },
   "outputs": [
    {
     "name": "stdout",
     "output_type": "stream",
     "text": [
      "31.1696044869\n"
     ]
    }
   ],
   "source": [
    "test_error = mean_squared_error(y_test, ridge.predict(X_test))\n",
    "print(test_error)"
   ]
  },
  {
   "cell_type": "markdown",
   "metadata": {},
   "source": [
    "## Trying Lasso Regression"
   ]
  },
  {
   "cell_type": "code",
   "execution_count": 398,
   "metadata": {
    "collapsed": false
   },
   "outputs": [
    {
     "data": {
      "text/plain": [
       "LassoCV(alphas=(0.01, 0.1, 0.25, 0.5, 0.75, 1, 5, 10), copy_X=True, cv=5,\n",
       "    eps=0.001, fit_intercept=True, max_iter=1000, n_alphas=100, n_jobs=1,\n",
       "    normalize=False, positive=False, precompute='auto', random_state=None,\n",
       "    selection='cyclic', tol=0.0001, verbose=False)"
      ]
     },
     "execution_count": 398,
     "metadata": {},
     "output_type": "execute_result"
    }
   ],
   "source": [
    "lasso = LassoCV(alphas = (0.01, 0.1, 0.25, 0.5, 0.75, 1, 5, 10), cv=5)\n",
    "lasso.fit(X_train, y_train)"
   ]
  },
  {
   "cell_type": "code",
   "execution_count": 399,
   "metadata": {
    "collapsed": false
   },
   "outputs": [
    {
     "name": "stdout",
     "output_type": "stream",
     "text": [
      "30.134735215\n"
     ]
    }
   ],
   "source": [
    "test_error = mean_squared_error(y_test, lasso.predict(X_test))\n",
    "print(test_error)"
   ]
  },
  {
   "cell_type": "markdown",
   "metadata": {},
   "source": [
    "## Trying subset selection using feature selection"
   ]
  },
  {
   "cell_type": "code",
   "execution_count": 401,
   "metadata": {
    "collapsed": true
   },
   "outputs": [],
   "source": [
    "from sklearn.feature_selection import SelectKBest\n",
    "from sklearn.feature_selection import chi2"
   ]
  },
  {
   "cell_type": "code",
   "execution_count": 403,
   "metadata": {
    "collapsed": false
   },
   "outputs": [
    {
     "ename": "ValueError",
     "evalue": "Unknown label type: (array([  3.29820000e-01,   1.96570000e-01,   8.64476000e+00,\n         2.90900000e-01,   7.50300000e-02,   4.12380000e-01,\n         1.10874000e+01,   1.43337000e+01,   2.29690000e-01,\n         5.05900000e-02,   6.11540000e-01,   1.84982000e+01,\n         8.30800000e-02,   6.86000000e-02,   9.55770000e-01,\n         2.28760000e-01,   8.24809000e+00,   8.52040000e-01,\n         2.59150000e-01,   6.41700000e-02,   1.02330000e+01,\n         5.47900000e-02,   1.10270000e-01,   3.76800000e-02,\n         8.71675000e+00,   2.98190000e-01,   2.63548000e+00,\n         5.44520000e-01,   5.87205000e+00,   8.15174000e+00,\n         4.26131000e+00,   4.59000000e-02,   8.38700000e-02,\n         4.64689000e+00,   5.40500000e-01,   2.61690000e-01,\n         8.05579000e+00,   1.71340000e-01,   5.69175000e+00,\n         1.19294000e+00,   8.89762000e+01,   1.35540000e-01,\n         2.07460000e-01,   3.53700000e-02,   7.02259000e+00,\n         5.66637000e+00,   1.35870000e-01,   6.12900000e-02,\n         1.90730000e-01,   1.61282000e+00,   4.81900000e-02,\n         1.00080000e-01,   2.54300000e-02,   4.81213000e+00,\n         4.29700000e-02,   4.55587000e+00,   2.10380000e-01,\n         1.34284000e+00,   2.72900000e-02,   1.43900000e-02,\n         2.44953000e+00,   3.56868000e+00,   1.30100000e-02,\n         2.36862000e+00,   3.57800000e-02,   1.29320000e-01,\n         2.98500000e-02,   2.06080000e-01,   4.34879000e+00,\n         6.26300000e-02,   5.34120000e-01,   4.29400000e-02,\n         3.76619000e+01,   1.00623000e+01,   3.87100000e-02,\n         3.04100000e-02,   6.72400000e-02,   9.82349000e+00,\n         1.20742000e+00,   6.15100000e-02,   1.54450000e-01,\n         8.98296000e+00,   4.11300000e-02,   1.06120000e-01,\n         6.37960000e-01,   5.60200000e-02,   1.67600000e-01,\n         3.69695000e+00,   7.89600000e-02,   2.39120000e-01,\n         1.62864000e+00,   3.84970000e+00,   2.81838000e+00,\n         4.37900000e-02,   4.89822000e+00,   1.64390000e-01,\n         1.27570000e-01,   5.20580000e-01,   1.80028000e+00,\n         1.39134000e+01,   2.31390000e+00,   5.73116000e+00,\n         4.87141000e+00,   5.29305000e+00,   2.50461000e+01,\n         9.18702000e+00,   5.37200000e-02,   2.21880000e-01,\n         4.22239000e+00,   6.32000000e-03,   4.01100000e-02,\n         8.37000000e-02,   9.88430000e-01,   9.92485000e+00,\n         4.68400000e-02,   1.30580000e-01,   3.51140000e-01,\n         1.36781000e+01,   9.84900000e-02,   8.87300000e-02,\n         9.72418000e+00,   1.62110000e-01,   7.25800000e-01,\n         6.71772000e+00,   8.01400000e-02,   6.28807000e+00,\n         8.81250000e-01,   4.92980000e-01,   7.95000000e-02,\n         1.40520000e-01,   9.06000000e-03,   7.72990000e-01,\n         3.58090000e-01,   1.41500000e-01,   3.52330000e-01,\n         3.39830000e-01,   6.89900000e-02,   1.04690000e-01,\n         1.70900000e-02,   6.71910000e-01,   3.15000000e-02,\n         7.16500000e-02,   1.25790000e-01,   4.54192000e+00,\n         3.30450000e-01,   3.65900000e-02,   3.03470000e-01,\n         9.60400000e-02,   2.83920000e-01,   3.54800000e-02,\n         4.07710000e-01,   9.37800000e-02,   1.10690000e-01,\n         2.00900000e-02,   6.04700000e-02,   1.88110000e+01,\n         5.02300000e-02,   1.22472000e+01,   1.06718000e+01,\n         8.24400000e-02,   1.43200000e-02,   1.32620000e-01,\n         6.23560000e-01,   9.51200000e-02,   9.23230000e+00,\n         2.33099000e+00,   6.90500000e-02,   7.83932000e+00,\n         1.65660000e+00,   4.56000000e-02,   3.22640000e-01,\n         8.70700000e-02,   7.01300000e-02,   1.38799000e+00,\n         7.88600000e-02,   2.87500000e-02,   1.00245000e+00,\n         4.52700000e-02,   3.70500000e-02,   2.45220000e-01,\n         2.15505000e+00,   1.13081000e+00,   1.15172000e+00,\n         7.97800000e-02,   2.48017000e+01,   1.59360000e-01,\n         5.82115000e+00,   9.16400000e-02,   8.49213000e+00,\n         3.87350000e-01,   5.78000000e-02,   3.46600000e-02,\n         4.09740000e+00,   1.87000000e-02,   4.15292000e+01,\n         1.23290000e-01,   5.50070000e-01,   2.49800000e-01,\n         5.20177000e+00,   9.10300000e-02,   6.64200000e-02,\n         9.25200000e-02,   7.84200000e-01,   3.67822000e+00,\n         6.39312000e+00,   3.40060000e-01,   7.40389000e+00,\n         1.46336000e+00,   2.89600000e-01,   1.81590000e-01,\n         7.36711000e+00,   1.58760000e-01,   1.42362000e+01,\n         6.12700000e-02,   8.82900000e-02,   9.51363000e+00,\n         5.11830000e-01,   5.18800000e-02,   2.37857000e+00,\n         6.29760000e-01,   2.53870000e-01,   3.69311000e+00,\n         3.49400000e-01,   1.42310000e-01,   3.18270000e-01,\n         3.53501000e+00,   3.41090000e-01,   1.83377000e+00,\n         7.05042000e+00,   6.96215000e+00,   2.99160000e-01,\n         7.87500000e-02,   2.20511000e+01,   1.83370000e-01,\n         5.42500000e-02,   9.29900000e-02,   6.56650000e-01,\n         1.27440000e-01,   5.66998000e+00,   1.22690000e-01,\n         1.77800000e-02,   7.35341000e+01,   7.15100000e-02,\n         3.50200000e-02,   9.06500000e-02,   4.42228000e+00,\n         5.37000000e-01,   1.33598000e+01,   4.03841000e+00,\n         3.47428000e+00,   1.50100000e-02,   1.44550000e-01,\n         8.22100000e-02,   5.82401000e+00,   1.02900000e-01,\n         3.44500000e-02,   1.31170000e-01,   2.86558000e+01,\n         4.33700000e-02,   7.52601000e+00,   1.74460000e-01,\n         2.24236000e+00,   5.26930000e-01,   2.14918000e+00,\n         9.17800000e-02,   2.18700000e-02,   5.78900000e-02,\n         2.51990000e-01,   6.44405000e+00,   2.25971000e+01,\n         6.63510000e-01,   8.40540000e-01,   4.66883000e+00,\n         1.23247000e+00,   2.24890000e-01,   2.68380000e-01,\n         7.85700000e-01,   1.41385000e+00,   5.66000000e-02,\n         2.22120000e-01,   5.20140000e-01,   1.38100000e-02,\n         8.26725000e+00,   6.88800000e-02,   4.30100000e-02,\n         1.36000000e-02,   3.32105000e+00,   5.73500000e-02,\n         3.25430000e-01,   3.83684000e+00,   3.73800000e-02,\n         1.68118000e+01,   3.11300000e-02,   1.13290000e-01,\n         1.28023000e+01,   2.44668000e+00,   4.75470000e-01,\n         6.79208000e+01,   8.26500000e-02,   1.73310000e-01,\n         1.78667000e+01,   5.30200000e-02,   1.70040000e-01,\n         1.49320000e-01,   1.00840000e-01,   3.77498000e+00,\n         2.79570000e-01,   1.91860000e-01,   8.19900000e-02,\n         3.23700000e-02,   1.53800000e-02,   1.55757000e+01,\n         3.51000000e-02,   2.43938000e+01,   7.75223000e+00,\n         1.78990000e-01,   5.64600000e-02,   1.39140000e-01,\n         4.66600000e-02,   5.36000000e-02,   1.14250000e-01,\n         8.02710000e-01,   5.40110000e-01,   9.91655000e+00,\n         1.49632000e+00,   1.80846000e+01,   1.08342000e+01,\n         1.88360000e-01,   5.90050000e-01,   2.41030000e-01,\n         1.17470000e-01,   1.44383000e+01,   4.41780000e-01,\n         9.76170000e-01,   2.11240000e-01,   1.39600000e-01,\n         6.21100000e-02,   1.11081000e+01,   2.29270000e-01,\n         1.44208000e+01,   6.65492000e+00,   1.18123000e+01,\n         7.02200000e-02,   1.96091000e+01,   1.25179000e+00,\n         1.07930000e-01,   8.44700000e-02,   3.15330000e-01,\n         2.36482000e+01,   2.53560000e-01,   2.05500000e-02,\n         2.89900000e-02,   6.91100000e-02,   2.37934000e+00,\n         4.41700000e-02,   1.41030000e-01,   3.04900000e-02,\n         3.93200000e-02,   9.32909000e+00,   9.96654000e+00,\n         1.30751000e+01,   2.89550000e-01,   1.91330000e-01,\n         4.75237000e+00,   2.92400000e+00,   2.63630000e-01,\n         2.17190000e-01,   9.39063000e+00,   2.17700000e-02,\n         9.59571000e+00,   2.14090000e-01,   4.74100000e-02,\n         6.58800000e-02,   6.27390000e-01,   1.19511000e+01,\n         6.80117000e+00,   9.26600000e-02,   8.18700000e-02,\n         3.61500000e-02]),)",
     "output_type": "error",
     "traceback": [
      "\u001b[0;31m---------------------------------------------------------------------------\u001b[0m",
      "\u001b[0;31mValueError\u001b[0m                                Traceback (most recent call last)",
      "\u001b[0;32m<ipython-input-403-6214a1be53f2>\u001b[0m in \u001b[0;36m<module>\u001b[0;34m()\u001b[0m\n\u001b[0;32m----> 1\u001b[0;31m \u001b[0mX_train_new\u001b[0m \u001b[1;33m=\u001b[0m \u001b[0mSelectKBest\u001b[0m\u001b[1;33m(\u001b[0m\u001b[0mchi2\u001b[0m\u001b[1;33m,\u001b[0m \u001b[0mk\u001b[0m\u001b[1;33m=\u001b[0m\u001b[1;36m2\u001b[0m\u001b[1;33m)\u001b[0m\u001b[1;33m.\u001b[0m\u001b[0mfit_transform\u001b[0m\u001b[1;33m(\u001b[0m\u001b[0mX_train\u001b[0m\u001b[1;33m,\u001b[0m \u001b[0my_train\u001b[0m\u001b[1;33m)\u001b[0m\u001b[1;33m\u001b[0m\u001b[0m\n\u001b[0m",
      "\u001b[0;32mC:\\Users\\Aditya Kharosekar\\Documents\\Anaconda\\lib\\site-packages\\sklearn\\base.py\u001b[0m in \u001b[0;36mfit_transform\u001b[0;34m(self, X, y, **fit_params)\u001b[0m\n\u001b[1;32m    495\u001b[0m         \u001b[1;32melse\u001b[0m\u001b[1;33m:\u001b[0m\u001b[1;33m\u001b[0m\u001b[0m\n\u001b[1;32m    496\u001b[0m             \u001b[1;31m# fit method of arity 2 (supervised transformation)\u001b[0m\u001b[1;33m\u001b[0m\u001b[1;33m\u001b[0m\u001b[0m\n\u001b[0;32m--> 497\u001b[0;31m             \u001b[1;32mreturn\u001b[0m \u001b[0mself\u001b[0m\u001b[1;33m.\u001b[0m\u001b[0mfit\u001b[0m\u001b[1;33m(\u001b[0m\u001b[0mX\u001b[0m\u001b[1;33m,\u001b[0m \u001b[0my\u001b[0m\u001b[1;33m,\u001b[0m \u001b[1;33m**\u001b[0m\u001b[0mfit_params\u001b[0m\u001b[1;33m)\u001b[0m\u001b[1;33m.\u001b[0m\u001b[0mtransform\u001b[0m\u001b[1;33m(\u001b[0m\u001b[0mX\u001b[0m\u001b[1;33m)\u001b[0m\u001b[1;33m\u001b[0m\u001b[0m\n\u001b[0m\u001b[1;32m    498\u001b[0m \u001b[1;33m\u001b[0m\u001b[0m\n\u001b[1;32m    499\u001b[0m \u001b[1;33m\u001b[0m\u001b[0m\n",
      "\u001b[0;32mC:\\Users\\Aditya Kharosekar\\Documents\\Anaconda\\lib\\site-packages\\sklearn\\feature_selection\\univariate_selection.py\u001b[0m in \u001b[0;36mfit\u001b[0;34m(self, X, y)\u001b[0m\n\u001b[1;32m    328\u001b[0m \u001b[1;33m\u001b[0m\u001b[0m\n\u001b[1;32m    329\u001b[0m         \u001b[0mself\u001b[0m\u001b[1;33m.\u001b[0m\u001b[0m_check_params\u001b[0m\u001b[1;33m(\u001b[0m\u001b[0mX\u001b[0m\u001b[1;33m,\u001b[0m \u001b[0my\u001b[0m\u001b[1;33m)\u001b[0m\u001b[1;33m\u001b[0m\u001b[0m\n\u001b[0;32m--> 330\u001b[0;31m         \u001b[0mscore_func_ret\u001b[0m \u001b[1;33m=\u001b[0m \u001b[0mself\u001b[0m\u001b[1;33m.\u001b[0m\u001b[0mscore_func\u001b[0m\u001b[1;33m(\u001b[0m\u001b[0mX\u001b[0m\u001b[1;33m,\u001b[0m \u001b[0my\u001b[0m\u001b[1;33m)\u001b[0m\u001b[1;33m\u001b[0m\u001b[0m\n\u001b[0m\u001b[1;32m    331\u001b[0m         \u001b[1;32mif\u001b[0m \u001b[0misinstance\u001b[0m\u001b[1;33m(\u001b[0m\u001b[0mscore_func_ret\u001b[0m\u001b[1;33m,\u001b[0m \u001b[1;33m(\u001b[0m\u001b[0mlist\u001b[0m\u001b[1;33m,\u001b[0m \u001b[0mtuple\u001b[0m\u001b[1;33m)\u001b[0m\u001b[1;33m)\u001b[0m\u001b[1;33m:\u001b[0m\u001b[1;33m\u001b[0m\u001b[0m\n\u001b[1;32m    332\u001b[0m             \u001b[0mself\u001b[0m\u001b[1;33m.\u001b[0m\u001b[0mscores_\u001b[0m\u001b[1;33m,\u001b[0m \u001b[0mself\u001b[0m\u001b[1;33m.\u001b[0m\u001b[0mpvalues_\u001b[0m \u001b[1;33m=\u001b[0m \u001b[0mscore_func_ret\u001b[0m\u001b[1;33m\u001b[0m\u001b[0m\n",
      "\u001b[0;32mC:\\Users\\Aditya Kharosekar\\Documents\\Anaconda\\lib\\site-packages\\sklearn\\feature_selection\\univariate_selection.py\u001b[0m in \u001b[0;36mchi2\u001b[0;34m(X, y)\u001b[0m\n\u001b[1;32m    215\u001b[0m         \u001b[1;32mraise\u001b[0m \u001b[0mValueError\u001b[0m\u001b[1;33m(\u001b[0m\u001b[1;34m\"Input X must be non-negative.\"\u001b[0m\u001b[1;33m)\u001b[0m\u001b[1;33m\u001b[0m\u001b[0m\n\u001b[1;32m    216\u001b[0m \u001b[1;33m\u001b[0m\u001b[0m\n\u001b[0;32m--> 217\u001b[0;31m     \u001b[0mY\u001b[0m \u001b[1;33m=\u001b[0m \u001b[0mLabelBinarizer\u001b[0m\u001b[1;33m(\u001b[0m\u001b[1;33m)\u001b[0m\u001b[1;33m.\u001b[0m\u001b[0mfit_transform\u001b[0m\u001b[1;33m(\u001b[0m\u001b[0my\u001b[0m\u001b[1;33m)\u001b[0m\u001b[1;33m\u001b[0m\u001b[0m\n\u001b[0m\u001b[1;32m    218\u001b[0m     \u001b[1;32mif\u001b[0m \u001b[0mY\u001b[0m\u001b[1;33m.\u001b[0m\u001b[0mshape\u001b[0m\u001b[1;33m[\u001b[0m\u001b[1;36m1\u001b[0m\u001b[1;33m]\u001b[0m \u001b[1;33m==\u001b[0m \u001b[1;36m1\u001b[0m\u001b[1;33m:\u001b[0m\u001b[1;33m\u001b[0m\u001b[0m\n\u001b[1;32m    219\u001b[0m         \u001b[0mY\u001b[0m \u001b[1;33m=\u001b[0m \u001b[0mnp\u001b[0m\u001b[1;33m.\u001b[0m\u001b[0mappend\u001b[0m\u001b[1;33m(\u001b[0m\u001b[1;36m1\u001b[0m \u001b[1;33m-\u001b[0m \u001b[0mY\u001b[0m\u001b[1;33m,\u001b[0m \u001b[0mY\u001b[0m\u001b[1;33m,\u001b[0m \u001b[0maxis\u001b[0m\u001b[1;33m=\u001b[0m\u001b[1;36m1\u001b[0m\u001b[1;33m)\u001b[0m\u001b[1;33m\u001b[0m\u001b[0m\n",
      "\u001b[0;32mC:\\Users\\Aditya Kharosekar\\Documents\\Anaconda\\lib\\site-packages\\sklearn\\base.py\u001b[0m in \u001b[0;36mfit_transform\u001b[0;34m(self, X, y, **fit_params)\u001b[0m\n\u001b[1;32m    492\u001b[0m         \u001b[1;32mif\u001b[0m \u001b[0my\u001b[0m \u001b[1;32mis\u001b[0m \u001b[1;32mNone\u001b[0m\u001b[1;33m:\u001b[0m\u001b[1;33m\u001b[0m\u001b[0m\n\u001b[1;32m    493\u001b[0m             \u001b[1;31m# fit method of arity 1 (unsupervised transformation)\u001b[0m\u001b[1;33m\u001b[0m\u001b[1;33m\u001b[0m\u001b[0m\n\u001b[0;32m--> 494\u001b[0;31m             \u001b[1;32mreturn\u001b[0m \u001b[0mself\u001b[0m\u001b[1;33m.\u001b[0m\u001b[0mfit\u001b[0m\u001b[1;33m(\u001b[0m\u001b[0mX\u001b[0m\u001b[1;33m,\u001b[0m \u001b[1;33m**\u001b[0m\u001b[0mfit_params\u001b[0m\u001b[1;33m)\u001b[0m\u001b[1;33m.\u001b[0m\u001b[0mtransform\u001b[0m\u001b[1;33m(\u001b[0m\u001b[0mX\u001b[0m\u001b[1;33m)\u001b[0m\u001b[1;33m\u001b[0m\u001b[0m\n\u001b[0m\u001b[1;32m    495\u001b[0m         \u001b[1;32melse\u001b[0m\u001b[1;33m:\u001b[0m\u001b[1;33m\u001b[0m\u001b[0m\n\u001b[1;32m    496\u001b[0m             \u001b[1;31m# fit method of arity 2 (supervised transformation)\u001b[0m\u001b[1;33m\u001b[0m\u001b[1;33m\u001b[0m\u001b[0m\n",
      "\u001b[0;32mC:\\Users\\Aditya Kharosekar\\Documents\\Anaconda\\lib\\site-packages\\sklearn\\preprocessing\\label.py\u001b[0m in \u001b[0;36mfit\u001b[0;34m(self, y)\u001b[0m\n\u001b[1;32m    302\u001b[0m \u001b[1;33m\u001b[0m\u001b[0m\n\u001b[1;32m    303\u001b[0m         \u001b[0mself\u001b[0m\u001b[1;33m.\u001b[0m\u001b[0msparse_input_\u001b[0m \u001b[1;33m=\u001b[0m \u001b[0msp\u001b[0m\u001b[1;33m.\u001b[0m\u001b[0missparse\u001b[0m\u001b[1;33m(\u001b[0m\u001b[0my\u001b[0m\u001b[1;33m)\u001b[0m\u001b[1;33m\u001b[0m\u001b[0m\n\u001b[0;32m--> 304\u001b[0;31m         \u001b[0mself\u001b[0m\u001b[1;33m.\u001b[0m\u001b[0mclasses_\u001b[0m \u001b[1;33m=\u001b[0m \u001b[0munique_labels\u001b[0m\u001b[1;33m(\u001b[0m\u001b[0my\u001b[0m\u001b[1;33m)\u001b[0m\u001b[1;33m\u001b[0m\u001b[0m\n\u001b[0m\u001b[1;32m    305\u001b[0m         \u001b[1;32mreturn\u001b[0m \u001b[0mself\u001b[0m\u001b[1;33m\u001b[0m\u001b[0m\n\u001b[1;32m    306\u001b[0m \u001b[1;33m\u001b[0m\u001b[0m\n",
      "\u001b[0;32mC:\\Users\\Aditya Kharosekar\\Documents\\Anaconda\\lib\\site-packages\\sklearn\\utils\\multiclass.py\u001b[0m in \u001b[0;36munique_labels\u001b[0;34m(*ys)\u001b[0m\n\u001b[1;32m     96\u001b[0m     \u001b[0m_unique_labels\u001b[0m \u001b[1;33m=\u001b[0m \u001b[0m_FN_UNIQUE_LABELS\u001b[0m\u001b[1;33m.\u001b[0m\u001b[0mget\u001b[0m\u001b[1;33m(\u001b[0m\u001b[0mlabel_type\u001b[0m\u001b[1;33m,\u001b[0m \u001b[1;32mNone\u001b[0m\u001b[1;33m)\u001b[0m\u001b[1;33m\u001b[0m\u001b[0m\n\u001b[1;32m     97\u001b[0m     \u001b[1;32mif\u001b[0m \u001b[1;32mnot\u001b[0m \u001b[0m_unique_labels\u001b[0m\u001b[1;33m:\u001b[0m\u001b[1;33m\u001b[0m\u001b[0m\n\u001b[0;32m---> 98\u001b[0;31m         \u001b[1;32mraise\u001b[0m \u001b[0mValueError\u001b[0m\u001b[1;33m(\u001b[0m\u001b[1;34m\"Unknown label type: %s\"\u001b[0m \u001b[1;33m%\u001b[0m \u001b[0mrepr\u001b[0m\u001b[1;33m(\u001b[0m\u001b[0mys\u001b[0m\u001b[1;33m)\u001b[0m\u001b[1;33m)\u001b[0m\u001b[1;33m\u001b[0m\u001b[0m\n\u001b[0m\u001b[1;32m     99\u001b[0m \u001b[1;33m\u001b[0m\u001b[0m\n\u001b[1;32m    100\u001b[0m     \u001b[0mys_labels\u001b[0m \u001b[1;33m=\u001b[0m \u001b[0mset\u001b[0m\u001b[1;33m(\u001b[0m\u001b[0mchain\u001b[0m\u001b[1;33m.\u001b[0m\u001b[0mfrom_iterable\u001b[0m\u001b[1;33m(\u001b[0m\u001b[0m_unique_labels\u001b[0m\u001b[1;33m(\u001b[0m\u001b[0my\u001b[0m\u001b[1;33m)\u001b[0m \u001b[1;32mfor\u001b[0m \u001b[0my\u001b[0m \u001b[1;32min\u001b[0m \u001b[0mys\u001b[0m\u001b[1;33m)\u001b[0m\u001b[1;33m)\u001b[0m\u001b[1;33m\u001b[0m\u001b[0m\n",
      "\u001b[0;31mValueError\u001b[0m: Unknown label type: (array([  3.29820000e-01,   1.96570000e-01,   8.64476000e+00,\n         2.90900000e-01,   7.50300000e-02,   4.12380000e-01,\n         1.10874000e+01,   1.43337000e+01,   2.29690000e-01,\n         5.05900000e-02,   6.11540000e-01,   1.84982000e+01,\n         8.30800000e-02,   6.86000000e-02,   9.55770000e-01,\n         2.28760000e-01,   8.24809000e+00,   8.52040000e-01,\n         2.59150000e-01,   6.41700000e-02,   1.02330000e+01,\n         5.47900000e-02,   1.10270000e-01,   3.76800000e-02,\n         8.71675000e+00,   2.98190000e-01,   2.63548000e+00,\n         5.44520000e-01,   5.87205000e+00,   8.15174000e+00,\n         4.26131000e+00,   4.59000000e-02,   8.38700000e-02,\n         4.64689000e+00,   5.40500000e-01,   2.61690000e-01,\n         8.05579000e+00,   1.71340000e-01,   5.69175000e+00,\n         1.19294000e+00,   8.89762000e+01,   1.35540000e-01,\n         2.07460000e-01,   3.53700000e-02,   7.02259000e+00,\n         5.66637000e+00,   1.35870000e-01,   6.12900000e-02,\n         1.90730000e-01,   1.61282000e+00,   4.81900000e-02,\n         1.00080000e-01,   2.54300000e-02,   4.81213000e+00,\n         4.29700000e-02,   4.55587000e+00,   2.10380000e-01,\n         1.34284000e+00,   2.72900000e-02,   1.43900000e-02,\n         2.44953000e+00,   3.56868000e+00,   1.30100000e-02,\n         2.36862000e+00,   3.57800000e-02,   1.29320000e-01,\n         2.98500000e-02,   2.06080000e-01,   4.34879000e+00,\n         6.26300000e-02,   5.34120000e-01,   4.29400000e-02,\n         3.76619000e+01,   1.00623000e+01,   3.87100000e-02,\n         3.04100000e-02,   6.72400000e-02,   9.82349000e+00,\n         1.20742000e+00,   6.15100000e-02,   1.54450000e-01,\n         8.98296000e+00,   4.11300000e-02,   1.06120000e-01,\n         6.37960000e-01,   5.60200000e-02,   1.67600000e-01,\n         3.69695000e+00,   7.89600000e-02,   2.39120000e-01,\n         1.62864000e+00,   3.84970000e+00,   2.81838000e+00,\n         4.37900000e-02,   4.89822000e+00,   1.64390000e-01,\n         1.27570000e-01,   5.20580000e-01,   1.80028000e+00,\n         1.39134000e+01,   2.31390000e+00,   5.73116000e+00,\n         4.87141000e+00,   5.29305000e+00,   2.50461000e+01,\n         9.18702000e+00,   5.37200000e-02,   2.21880000e-01,\n         4.22239000e+00,   6.32000000e-03,   4.01100000e-02,\n         8.37000000e-02,   9.88430000e-01,   9.92485000e+00,\n         4.68400000e-02,   1.30580000e-01,   3.51140000e-01,\n         1.36781000e+01,   9.84900000e-02,   8.87300000e-02,\n         9.72418000e+00,   1.62110000e-01,   7.25800000e-01,\n         6.71772000e+00,   8.01400000e-02,   6.28807000e+00,\n         8.81250000e-01,   4.92980000e-01,   7.95000000e-02,\n         1.40520000e-01,   9.06000000e-03,   7.72990000e-01,\n         3.58090000e-01,   1.41500000e-01,   3.52330000e-01,\n         3.39830000e-01,   6.89900000e-02,   1.04690000e-01,\n         1.70900000e-02,   6.71910000e-01,   3.15000000e-02,\n         7.16500000e-02,   1.25790000e-01,   4.54192000e+00,\n         3.30450000e-01,   3.65900000e-02,   3.03470000e-01,\n         9.60400000e-02,   2.83920000e-01,   3.54800000e-02,\n         4.07710000e-01,   9.37800000e-02,   1.10690000e-01,\n         2.00900000e-02,   6.04700000e-02,   1.88110000e+01,\n         5.02300000e-02,   1.22472000e+01,   1.06718000e+01,\n         8.24400000e-02,   1.43200000e-02,   1.32620000e-01,\n         6.23560000e-01,   9.51200000e-02,   9.23230000e+00,\n         2.33099000e+00,   6.90500000e-02,   7.83932000e+00,\n         1.65660000e+00,   4.56000000e-02,   3.22640000e-01,\n         8.70700000e-02,   7.01300000e-02,   1.38799000e+00,\n         7.88600000e-02,   2.87500000e-02,   1.00245000e+00,\n         4.52700000e-02,   3.70500000e-02,   2.45220000e-01,\n         2.15505000e+00,   1.13081000e+00,   1.15172000e+00,\n         7.97800000e-02,   2.48017000e+01,   1.59360000e-01,\n         5.82115000e+00,   9.16400000e-02,   8.49213000e+00,\n         3.87350000e-01,   5.78000000e-02,   3.46600000e-02,\n         4.09740000e+00,   1.87000000e-02,   4.15292000e+01,\n         1.23290000e-01,   5.50070000e-01,   2.49800000e-01,\n         5.20177000e+00,   9.10300000e-02,   6.64200000e-02,\n         9.25200000e-02,   7.84200000e-01,   3.67822000e+00,\n         6.39312000e+00,   3.40060000e-01,   7.40389000e+00,\n         1.46336000e+00,   2.89600000e-01,   1.81590000e-01,\n         7.36711000e+00,   1.58760000e-01,   1.42362000e+01,\n         6.12700000e-02,   8.82900000e-02,   9.51363000e+00,\n         5.11830000e-01,   5.18800000e-02,   2.37857000e+00,\n         6.29760000e-01,   2.53870000e-01,   3.69311000e+00,\n         3.49400000e-01,   1.42310000e-01,   3.18270000e-01,\n         3.53501000e+00,   3.41090000e-01,   1.83377000e+00,\n         7.05042000e+00,   6.96215000e+00,   2.99160000e-01,\n         7.87500000e-02,   2.20511000e+01,   1.83370000e-01,\n         5.42500000e-02,   9.29900000e-02,   6.56650000e-01,\n         1.27440000e-01,   5.66998000e+00,   1.22690000e-01,\n         1.77800000e-02,   7.35341000e+01,   7.15100000e-02,\n         3.50200000e-02,   9.06500000e-02,   4.42228000e+00,\n         5.37000000e-01,   1.33598000e+01,   4.03841000e+00,\n         3.47428000e+00,   1.50100000e-02,   1.44550000e-01,\n         8.22100000e-02,   5.82401000e+00,   1.02900000e-01,\n         3.44500000e-02,   1.31170000e-01,   2.86558000e+01,\n         4.33700000e-02,   7.52601000e+00,   1.74460000e-01,\n         2.24236000e+00,   5.26930000e-01,   2.14918000e+00,\n         9.17800000e-02,   2.18700000e-02,   5.78900000e-02,\n         2.51990000e-01,   6.44405000e+00,   2.25971000e+01,\n         6.63510000e-01,   8.40540000e-01,   4.66883000e+00,\n         1.23247000e+00,   2.24890000e-01,   2.68380000e-01,\n         7.85700000e-01,   1.41385000e+00,   5.66000000e-02,\n         2.22120000e-01,   5.20140000e-01,   1.38100000e-02,\n         8.26725000e+00,   6.88800000e-02,   4.30100000e-02,\n         1.36000000e-02,   3.32105000e+00,   5.73500000e-02,\n         3.25430000e-01,   3.83684000e+00,   3.73800000e-02,\n         1.68118000e+01,   3.11300000e-02,   1.13290000e-01,\n         1.28023000e+01,   2.44668000e+00,   4.75470000e-01,\n         6.79208000e+01,   8.26500000e-02,   1.73310000e-01,\n         1.78667000e+01,   5.30200000e-02,   1.70040000e-01,\n         1.49320000e-01,   1.00840000e-01,   3.77498000e+00,\n         2.79570000e-01,   1.91860000e-01,   8.19900000e-02,\n         3.23700000e-02,   1.53800000e-02,   1.55757000e+01,\n         3.51000000e-02,   2.43938000e+01,   7.75223000e+00,\n         1.78990000e-01,   5.64600000e-02,   1.39140000e-01,\n         4.66600000e-02,   5.36000000e-02,   1.14250000e-01,\n         8.02710000e-01,   5.40110000e-01,   9.91655000e+00,\n         1.49632000e+00,   1.80846000e+01,   1.08342000e+01,\n         1.88360000e-01,   5.90050000e-01,   2.41030000e-01,\n         1.17470000e-01,   1.44383000e+01,   4.41780000e-01,\n         9.76170000e-01,   2.11240000e-01,   1.39600000e-01,\n         6.21100000e-02,   1.11081000e+01,   2.29270000e-01,\n         1.44208000e+01,   6.65492000e+00,   1.18123000e+01,\n         7.02200000e-02,   1.96091000e+01,   1.25179000e+00,\n         1.07930000e-01,   8.44700000e-02,   3.15330000e-01,\n         2.36482000e+01,   2.53560000e-01,   2.05500000e-02,\n         2.89900000e-02,   6.91100000e-02,   2.37934000e+00,\n         4.41700000e-02,   1.41030000e-01,   3.04900000e-02,\n         3.93200000e-02,   9.32909000e+00,   9.96654000e+00,\n         1.30751000e+01,   2.89550000e-01,   1.91330000e-01,\n         4.75237000e+00,   2.92400000e+00,   2.63630000e-01,\n         2.17190000e-01,   9.39063000e+00,   2.17700000e-02,\n         9.59571000e+00,   2.14090000e-01,   4.74100000e-02,\n         6.58800000e-02,   6.27390000e-01,   1.19511000e+01,\n         6.80117000e+00,   9.26600000e-02,   8.18700000e-02,\n         3.61500000e-02]),)"
     ]
    }
   ],
   "source": [
    "X_train_new = SelectKBest(chi2, k=2).fit_transform(X_train, y_train)"
   ]
  },
  {
   "cell_type": "code",
   "execution_count": null,
   "metadata": {
    "collapsed": true
   },
   "outputs": [],
   "source": []
  }
 ],
 "metadata": {
  "kernelspec": {
   "display_name": "Python 3",
   "language": "python",
   "name": "python3"
  },
  "language_info": {
   "codemirror_mode": {
    "name": "ipython",
    "version": 3
   },
   "file_extension": ".py",
   "mimetype": "text/x-python",
   "name": "python",
   "nbconvert_exporter": "python",
   "pygments_lexer": "ipython3",
   "version": "3.6.0"
  }
 },
 "nbformat": 4,
 "nbformat_minor": 0
}
