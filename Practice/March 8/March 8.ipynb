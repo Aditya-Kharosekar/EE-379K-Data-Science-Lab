{
 "cells": [
  {
   "cell_type": "markdown",
   "metadata": {},
   "source": [
    "# Logistic Regression"
   ]
  },
  {
   "cell_type": "code",
   "execution_count": 19,
   "metadata": {
    "collapsed": false
   },
   "outputs": [
    {
     "name": "stdout",
     "output_type": "stream",
     "text": [
      "(150, 4)\n",
      "(150,)\n"
     ]
    }
   ],
   "source": [
    "from sklearn.datasets import load_iris\n",
    "iris = load_iris()\n",
    "X = iris.data\n",
    "print(X.shape)\n",
    "y = iris.target\n",
    "print(y.shape)"
   ]
  },
  {
   "cell_type": "code",
   "execution_count": 23,
   "metadata": {
    "collapsed": false
   },
   "outputs": [
    {
     "data": {
      "text/plain": [
       "(120, 4)"
      ]
     },
     "execution_count": 23,
     "metadata": {},
     "output_type": "execute_result"
    }
   ],
   "source": [
    "from sklearn.model_selection import train_test_split\n",
    "X_train, X_test, y_train, y_test = train_test_split(X, y, test_size = 0.20)\n",
    "X_train.shape"
   ]
  },
  {
   "cell_type": "code",
   "execution_count": 24,
   "metadata": {
    "collapsed": false
   },
   "outputs": [
    {
     "data": {
      "text/plain": [
       "LogisticRegression(C=1.0, class_weight=None, dual=False, fit_intercept=True,\n",
       "          intercept_scaling=1, max_iter=100, multi_class='ovr', n_jobs=1,\n",
       "          penalty='l2', random_state=None, solver='liblinear', tol=0.0001,\n",
       "          verbose=0, warm_start=False)"
      ]
     },
     "execution_count": 24,
     "metadata": {},
     "output_type": "execute_result"
    }
   ],
   "source": [
    "from sklearn.linear_model import LogisticRegression\n",
    "logistic = LogisticRegression()\n",
    "logistic.fit(X_train, y_train)"
   ]
  },
  {
   "cell_type": "code",
   "execution_count": 25,
   "metadata": {
    "collapsed": false
   },
   "outputs": [
    {
     "data": {
      "text/plain": [
       "array([[  2.66800469e-04,   1.47122117e-01,   8.52611083e-01],\n",
       "       [  8.54179896e-01,   1.45787890e-01,   3.22144475e-05],\n",
       "       [  4.04739225e-03,   3.75591036e-01,   6.20361571e-01],\n",
       "       [  8.33519836e-01,   1.66369156e-01,   1.11008640e-04],\n",
       "       [  7.95073887e-01,   2.04875656e-01,   5.04567093e-05],\n",
       "       [  1.19859812e-01,   7.27838469e-01,   1.52301719e-01],\n",
       "       [  4.49381742e-02,   5.78293156e-01,   3.76768670e-01],\n",
       "       [  9.15268237e-04,   2.37204124e-01,   7.61880608e-01],\n",
       "       [  8.51895727e-01,   1.48026318e-01,   7.79552661e-05],\n",
       "       [  3.87864026e-02,   6.30696933e-01,   3.30516664e-01],\n",
       "       [  9.12829135e-01,   8.70853240e-02,   8.55407022e-05],\n",
       "       [  4.28732368e-04,   2.95525386e-01,   7.04045881e-01],\n",
       "       [  1.64435093e-03,   3.87419464e-01,   6.10936185e-01],\n",
       "       [  5.80146747e-02,   8.16650287e-01,   1.25335039e-01],\n",
       "       [  1.28349950e-02,   5.43854972e-01,   4.43310033e-01],\n",
       "       [  7.40057384e-03,   2.58153988e-01,   7.34445438e-01],\n",
       "       [  2.46919053e-02,   6.26574498e-01,   3.48733596e-01],\n",
       "       [  9.12367701e-01,   8.75131054e-02,   1.19193343e-04],\n",
       "       [  6.17819934e-04,   1.58426182e-01,   8.40955998e-01],\n",
       "       [  1.84115902e-04,   4.23327534e-01,   5.76488350e-01],\n",
       "       [  2.19732126e-03,   2.70756725e-01,   7.27045954e-01],\n",
       "       [  4.10754461e-02,   6.61424026e-01,   2.97500527e-01],\n",
       "       [  9.17999591e-01,   8.19635043e-02,   3.69051891e-05],\n",
       "       [  8.87343171e-01,   1.12627835e-01,   2.89944125e-05],\n",
       "       [  9.20119981e-01,   7.98546616e-02,   2.53569155e-05],\n",
       "       [  1.23693499e-03,   3.13179113e-01,   6.85583952e-01],\n",
       "       [  2.16016593e-05,   4.20890460e-01,   5.79087938e-01],\n",
       "       [  9.41396989e-01,   5.85983055e-02,   4.70551855e-06],\n",
       "       [  8.25172732e-01,   1.74796742e-01,   3.05259630e-05],\n",
       "       [  2.35558328e-02,   8.60451356e-01,   1.15992811e-01]])"
      ]
     },
     "execution_count": 25,
     "metadata": {},
     "output_type": "execute_result"
    }
   ],
   "source": [
    "logistic.predict_proba(X_test)"
   ]
  },
  {
   "cell_type": "markdown",
   "metadata": {},
   "source": [
    "Ok so this is printing out the probabilities for each tag"
   ]
  },
  {
   "cell_type": "code",
   "execution_count": 29,
   "metadata": {
    "collapsed": false
   },
   "outputs": [
    {
     "data": {
      "text/plain": [
       "array([2, 0, 2, 0, 0, 1, 1, 2, 0, 1, 0, 2, 2, 1, 1, 2, 1, 0, 2, 2, 2, 1, 0,\n",
       "       0, 0, 2, 2, 0, 0, 1])"
      ]
     },
     "execution_count": 29,
     "metadata": {},
     "output_type": "execute_result"
    }
   ],
   "source": [
    "predictions = logistic.predict(X_test)\n",
    "predictions"
   ]
  },
  {
   "cell_type": "markdown",
   "metadata": {},
   "source": [
    "By looking at the labels and the probabilities, what I think the logistic model is doing is that it finds the probabilities for each sample, and then assigns each point to the label with the highest probability"
   ]
  },
  {
   "cell_type": "code",
   "execution_count": 33,
   "metadata": {
    "collapsed": false
   },
   "outputs": [
    {
     "data": {
      "text/plain": [
       "array([[ 0.40377655,  1.36207696, -2.14993116, -0.99772262],\n",
       "       [ 0.50283421, -1.56819614,  0.50739869, -1.31095088],\n",
       "       [-1.69387179, -1.35253521,  2.39339756,  2.3750046 ]])"
      ]
     },
     "execution_count": 33,
     "metadata": {},
     "output_type": "execute_result"
    }
   ],
   "source": [
    "logistic.coef_"
   ]
  },
  {
   "cell_type": "code",
   "execution_count": null,
   "metadata": {
    "collapsed": true
   },
   "outputs": [],
   "source": []
  }
 ],
 "metadata": {
  "anaconda-cloud": {},
  "kernelspec": {
   "display_name": "Python [conda root]",
   "language": "python",
   "name": "conda-root-py"
  },
  "language_info": {
   "codemirror_mode": {
    "name": "ipython",
    "version": 3
   },
   "file_extension": ".py",
   "mimetype": "text/x-python",
   "name": "python",
   "nbconvert_exporter": "python",
   "pygments_lexer": "ipython3",
   "version": "3.5.2"
  }
 },
 "nbformat": 4,
 "nbformat_minor": 1
}
