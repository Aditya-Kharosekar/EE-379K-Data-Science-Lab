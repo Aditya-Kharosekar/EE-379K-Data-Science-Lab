{
 "cells": [
  {
   "cell_type": "markdown",
   "metadata": {},
   "source": [
    "# Chapter 4 Problem 10"
   ]
  },
  {
   "cell_type": "code",
   "execution_count": 97,
   "metadata": {
    "collapsed": true
   },
   "outputs": [],
   "source": [
    "import numpy as np\n",
    "import pandas as pd\n",
    "import matplotlib.pyplot as plt\n",
    "from sklearn.linear_model import LogisticRegression\n",
    "from sklearn.discriminant_analysis import LinearDiscriminantAnalysis as LDA\n",
    "from sklearn.metrics import confusion_matrix"
   ]
  },
  {
   "cell_type": "code",
   "execution_count": 98,
   "metadata": {
    "collapsed": true
   },
   "outputs": [],
   "source": [
    "weekly = pd.read_csv(\"Weekly.csv\")"
   ]
  },
  {
   "cell_type": "code",
   "execution_count": 99,
   "metadata": {
    "collapsed": false
   },
   "outputs": [
    {
     "data": {
      "text/html": [
       "<div>\n",
       "<table border=\"1\" class=\"dataframe\">\n",
       "  <thead>\n",
       "    <tr style=\"text-align: right;\">\n",
       "      <th></th>\n",
       "      <th>Unnamed: 0</th>\n",
       "      <th>Year</th>\n",
       "      <th>Lag1</th>\n",
       "      <th>Lag2</th>\n",
       "      <th>Lag3</th>\n",
       "      <th>Lag4</th>\n",
       "      <th>Lag5</th>\n",
       "      <th>Volume</th>\n",
       "      <th>Today</th>\n",
       "      <th>Direction</th>\n",
       "    </tr>\n",
       "  </thead>\n",
       "  <tbody>\n",
       "    <tr>\n",
       "      <th>0</th>\n",
       "      <td>1</td>\n",
       "      <td>1990</td>\n",
       "      <td>0.816</td>\n",
       "      <td>1.572</td>\n",
       "      <td>-3.936</td>\n",
       "      <td>-0.229</td>\n",
       "      <td>-3.484</td>\n",
       "      <td>0.154976</td>\n",
       "      <td>-0.270</td>\n",
       "      <td>Down</td>\n",
       "    </tr>\n",
       "    <tr>\n",
       "      <th>1</th>\n",
       "      <td>2</td>\n",
       "      <td>1990</td>\n",
       "      <td>-0.270</td>\n",
       "      <td>0.816</td>\n",
       "      <td>1.572</td>\n",
       "      <td>-3.936</td>\n",
       "      <td>-0.229</td>\n",
       "      <td>0.148574</td>\n",
       "      <td>-2.576</td>\n",
       "      <td>Down</td>\n",
       "    </tr>\n",
       "    <tr>\n",
       "      <th>2</th>\n",
       "      <td>3</td>\n",
       "      <td>1990</td>\n",
       "      <td>-2.576</td>\n",
       "      <td>-0.270</td>\n",
       "      <td>0.816</td>\n",
       "      <td>1.572</td>\n",
       "      <td>-3.936</td>\n",
       "      <td>0.159837</td>\n",
       "      <td>3.514</td>\n",
       "      <td>Up</td>\n",
       "    </tr>\n",
       "    <tr>\n",
       "      <th>3</th>\n",
       "      <td>4</td>\n",
       "      <td>1990</td>\n",
       "      <td>3.514</td>\n",
       "      <td>-2.576</td>\n",
       "      <td>-0.270</td>\n",
       "      <td>0.816</td>\n",
       "      <td>1.572</td>\n",
       "      <td>0.161630</td>\n",
       "      <td>0.712</td>\n",
       "      <td>Up</td>\n",
       "    </tr>\n",
       "    <tr>\n",
       "      <th>4</th>\n",
       "      <td>5</td>\n",
       "      <td>1990</td>\n",
       "      <td>0.712</td>\n",
       "      <td>3.514</td>\n",
       "      <td>-2.576</td>\n",
       "      <td>-0.270</td>\n",
       "      <td>0.816</td>\n",
       "      <td>0.153728</td>\n",
       "      <td>1.178</td>\n",
       "      <td>Up</td>\n",
       "    </tr>\n",
       "  </tbody>\n",
       "</table>\n",
       "</div>"
      ],
      "text/plain": [
       "   Unnamed: 0  Year   Lag1   Lag2   Lag3   Lag4   Lag5    Volume  Today  \\\n",
       "0           1  1990  0.816  1.572 -3.936 -0.229 -3.484  0.154976 -0.270   \n",
       "1           2  1990 -0.270  0.816  1.572 -3.936 -0.229  0.148574 -2.576   \n",
       "2           3  1990 -2.576 -0.270  0.816  1.572 -3.936  0.159837  3.514   \n",
       "3           4  1990  3.514 -2.576 -0.270  0.816  1.572  0.161630  0.712   \n",
       "4           5  1990  0.712  3.514 -2.576 -0.270  0.816  0.153728  1.178   \n",
       "\n",
       "  Direction  \n",
       "0      Down  \n",
       "1      Down  \n",
       "2        Up  \n",
       "3        Up  \n",
       "4        Up  "
      ]
     },
     "execution_count": 99,
     "metadata": {},
     "output_type": "execute_result"
    }
   ],
   "source": [
    "weekly.head()"
   ]
  },
  {
   "cell_type": "code",
   "execution_count": 100,
   "metadata": {
    "collapsed": false
   },
   "outputs": [
    {
     "data": {
      "text/plain": [
       "(1089, 10)"
      ]
     },
     "execution_count": 100,
     "metadata": {},
     "output_type": "execute_result"
    }
   ],
   "source": [
    "weekly.shape"
   ]
  },
  {
   "cell_type": "markdown",
   "metadata": {},
   "source": [
    "** NEED TO DO NUMERICAL/GRAPHICAL SUMMARIES **"
   ]
  },
  {
   "cell_type": "markdown",
   "metadata": {},
   "source": [
    "## Logistic Regression on all data"
   ]
  },
  {
   "cell_type": "code",
   "execution_count": 101,
   "metadata": {
    "collapsed": false
   },
   "outputs": [
    {
     "data": {
      "text/html": [
       "<div>\n",
       "<table border=\"1\" class=\"dataframe\">\n",
       "  <thead>\n",
       "    <tr style=\"text-align: right;\">\n",
       "      <th></th>\n",
       "      <th>Lag1</th>\n",
       "      <th>Lag2</th>\n",
       "      <th>Lag3</th>\n",
       "      <th>Lag4</th>\n",
       "      <th>Lag5</th>\n",
       "      <th>Volume</th>\n",
       "    </tr>\n",
       "  </thead>\n",
       "  <tbody>\n",
       "    <tr>\n",
       "      <th>0</th>\n",
       "      <td>0.816</td>\n",
       "      <td>1.572</td>\n",
       "      <td>-3.936</td>\n",
       "      <td>-0.229</td>\n",
       "      <td>-3.484</td>\n",
       "      <td>0.154976</td>\n",
       "    </tr>\n",
       "    <tr>\n",
       "      <th>1</th>\n",
       "      <td>-0.270</td>\n",
       "      <td>0.816</td>\n",
       "      <td>1.572</td>\n",
       "      <td>-3.936</td>\n",
       "      <td>-0.229</td>\n",
       "      <td>0.148574</td>\n",
       "    </tr>\n",
       "    <tr>\n",
       "      <th>2</th>\n",
       "      <td>-2.576</td>\n",
       "      <td>-0.270</td>\n",
       "      <td>0.816</td>\n",
       "      <td>1.572</td>\n",
       "      <td>-3.936</td>\n",
       "      <td>0.159837</td>\n",
       "    </tr>\n",
       "    <tr>\n",
       "      <th>3</th>\n",
       "      <td>3.514</td>\n",
       "      <td>-2.576</td>\n",
       "      <td>-0.270</td>\n",
       "      <td>0.816</td>\n",
       "      <td>1.572</td>\n",
       "      <td>0.161630</td>\n",
       "    </tr>\n",
       "    <tr>\n",
       "      <th>4</th>\n",
       "      <td>0.712</td>\n",
       "      <td>3.514</td>\n",
       "      <td>-2.576</td>\n",
       "      <td>-0.270</td>\n",
       "      <td>0.816</td>\n",
       "      <td>0.153728</td>\n",
       "    </tr>\n",
       "  </tbody>\n",
       "</table>\n",
       "</div>"
      ],
      "text/plain": [
       "    Lag1   Lag2   Lag3   Lag4   Lag5    Volume\n",
       "0  0.816  1.572 -3.936 -0.229 -3.484  0.154976\n",
       "1 -0.270  0.816  1.572 -3.936 -0.229  0.148574\n",
       "2 -2.576 -0.270  0.816  1.572 -3.936  0.159837\n",
       "3  3.514 -2.576 -0.270  0.816  1.572  0.161630\n",
       "4  0.712  3.514 -2.576 -0.270  0.816  0.153728"
      ]
     },
     "execution_count": 101,
     "metadata": {},
     "output_type": "execute_result"
    }
   ],
   "source": [
    "logReg = LogisticRegression()\n",
    "testing = weekly.loc[:,\"Lag1\":\"Volume\"]\n",
    "testing.head()"
   ]
  },
  {
   "cell_type": "code",
   "execution_count": 102,
   "metadata": {
    "collapsed": false
   },
   "outputs": [
    {
     "data": {
      "text/plain": [
       "LogisticRegression(C=1.0, class_weight=None, dual=False, fit_intercept=True,\n",
       "          intercept_scaling=1, max_iter=100, multi_class='ovr', n_jobs=1,\n",
       "          penalty='l2', random_state=None, solver='liblinear', tol=0.0001,\n",
       "          verbose=0, warm_start=False)"
      ]
     },
     "execution_count": 102,
     "metadata": {},
     "output_type": "execute_result"
    }
   ],
   "source": [
    "logReg.fit(testing, weekly[\"Direction\"])"
   ]
  },
  {
   "cell_type": "code",
   "execution_count": 103,
   "metadata": {
    "collapsed": false
   },
   "outputs": [
    {
     "data": {
      "text/html": [
       "<div>\n",
       "<table border=\"1\" class=\"dataframe\">\n",
       "  <thead>\n",
       "    <tr style=\"text-align: right;\">\n",
       "      <th></th>\n",
       "      <th>Lag1</th>\n",
       "      <th>Lag2</th>\n",
       "      <th>Lag3</th>\n",
       "      <th>Lag4</th>\n",
       "      <th>Lag5</th>\n",
       "      <th>Volume</th>\n",
       "    </tr>\n",
       "  </thead>\n",
       "  <tbody>\n",
       "    <tr>\n",
       "      <th>count</th>\n",
       "      <td>1089.000000</td>\n",
       "      <td>1089.000000</td>\n",
       "      <td>1089.000000</td>\n",
       "      <td>1089.000000</td>\n",
       "      <td>1089.000000</td>\n",
       "      <td>1089.000000</td>\n",
       "    </tr>\n",
       "    <tr>\n",
       "      <th>mean</th>\n",
       "      <td>0.150585</td>\n",
       "      <td>0.151079</td>\n",
       "      <td>0.147205</td>\n",
       "      <td>0.145818</td>\n",
       "      <td>0.139893</td>\n",
       "      <td>1.574618</td>\n",
       "    </tr>\n",
       "    <tr>\n",
       "      <th>std</th>\n",
       "      <td>2.357013</td>\n",
       "      <td>2.357254</td>\n",
       "      <td>2.360502</td>\n",
       "      <td>2.360279</td>\n",
       "      <td>2.361285</td>\n",
       "      <td>1.686636</td>\n",
       "    </tr>\n",
       "    <tr>\n",
       "      <th>min</th>\n",
       "      <td>-18.195000</td>\n",
       "      <td>-18.195000</td>\n",
       "      <td>-18.195000</td>\n",
       "      <td>-18.195000</td>\n",
       "      <td>-18.195000</td>\n",
       "      <td>0.087465</td>\n",
       "    </tr>\n",
       "    <tr>\n",
       "      <th>25%</th>\n",
       "      <td>-1.154000</td>\n",
       "      <td>-1.154000</td>\n",
       "      <td>-1.158000</td>\n",
       "      <td>-1.158000</td>\n",
       "      <td>-1.166000</td>\n",
       "      <td>0.332022</td>\n",
       "    </tr>\n",
       "    <tr>\n",
       "      <th>50%</th>\n",
       "      <td>0.241000</td>\n",
       "      <td>0.241000</td>\n",
       "      <td>0.241000</td>\n",
       "      <td>0.238000</td>\n",
       "      <td>0.234000</td>\n",
       "      <td>1.002680</td>\n",
       "    </tr>\n",
       "    <tr>\n",
       "      <th>75%</th>\n",
       "      <td>1.405000</td>\n",
       "      <td>1.409000</td>\n",
       "      <td>1.409000</td>\n",
       "      <td>1.409000</td>\n",
       "      <td>1.405000</td>\n",
       "      <td>2.053727</td>\n",
       "    </tr>\n",
       "    <tr>\n",
       "      <th>max</th>\n",
       "      <td>12.026000</td>\n",
       "      <td>12.026000</td>\n",
       "      <td>12.026000</td>\n",
       "      <td>12.026000</td>\n",
       "      <td>12.026000</td>\n",
       "      <td>9.328214</td>\n",
       "    </tr>\n",
       "  </tbody>\n",
       "</table>\n",
       "</div>"
      ],
      "text/plain": [
       "              Lag1         Lag2         Lag3         Lag4         Lag5  \\\n",
       "count  1089.000000  1089.000000  1089.000000  1089.000000  1089.000000   \n",
       "mean      0.150585     0.151079     0.147205     0.145818     0.139893   \n",
       "std       2.357013     2.357254     2.360502     2.360279     2.361285   \n",
       "min     -18.195000   -18.195000   -18.195000   -18.195000   -18.195000   \n",
       "25%      -1.154000    -1.154000    -1.158000    -1.158000    -1.166000   \n",
       "50%       0.241000     0.241000     0.241000     0.238000     0.234000   \n",
       "75%       1.405000     1.409000     1.409000     1.409000     1.405000   \n",
       "max      12.026000    12.026000    12.026000    12.026000    12.026000   \n",
       "\n",
       "            Volume  \n",
       "count  1089.000000  \n",
       "mean      1.574618  \n",
       "std       1.686636  \n",
       "min       0.087465  \n",
       "25%       0.332022  \n",
       "50%       1.002680  \n",
       "75%       2.053727  \n",
       "max       9.328214  "
      ]
     },
     "execution_count": 103,
     "metadata": {},
     "output_type": "execute_result"
    }
   ],
   "source": [
    "testing.describe()"
   ]
  },
  {
   "cell_type": "markdown",
   "metadata": {},
   "source": [
    "The matrix shows the result of describe() on the matrix made up of the predictor variables. All 5 Lag variables are very similar to each other. The Volume variable, by its nature, has a different structure, but just based on the above matrix, it is hard to say whether any of these variables are by themselves statistically significant."
   ]
  },
  {
   "cell_type": "markdown",
   "metadata": {},
   "source": [
    "## Confusion Matrix"
   ]
  },
  {
   "cell_type": "code",
   "execution_count": 104,
   "metadata": {
    "collapsed": false
   },
   "outputs": [
    {
     "name": "stdout",
     "output_type": "stream",
     "text": [
      "(1089,)\n"
     ]
    },
    {
     "data": {
      "text/plain": [
       "array(['Up', 'Up', 'Up', ..., 'Up', 'Up', 'Up'], dtype=object)"
      ]
     },
     "execution_count": 104,
     "metadata": {},
     "output_type": "execute_result"
    }
   ],
   "source": [
    "results = logReg.predict(testing)\n",
    "print(results.shape)\n",
    "results"
   ]
  },
  {
   "cell_type": "code",
   "execution_count": 105,
   "metadata": {
    "collapsed": false
   },
   "outputs": [
    {
     "name": "stdout",
     "output_type": "stream",
     "text": [
      "[[ 55 429]\n",
      " [ 47 558]]\n"
     ]
    }
   ],
   "source": [
    "print(confusion_matrix(weekly[\"Direction\"], results))"
   ]
  },
  {
   "cell_type": "markdown",
   "metadata": {},
   "source": [
    "Figuring out which row corresponds to \"Up\" and which row corresponds to \"Down\" - "
   ]
  },
  {
   "cell_type": "code",
   "execution_count": 106,
   "metadata": {
    "collapsed": false
   },
   "outputs": [
    {
     "name": "stdout",
     "output_type": "stream",
     "text": [
      "558\n",
      "47\n"
     ]
    }
   ],
   "source": [
    "up_correct = 0\n",
    "up_predicted_as_down = 0\n",
    "for num in range(1089):\n",
    "    if (weekly[\"Direction\"][num]==\"Up\" and results[num]==\"Up\"):\n",
    "        up_correct+=1\n",
    "    if (weekly[\"Direction\"][num]==\"Up\" and results[num]==\"Down\"):\n",
    "        up_predicted_as_down +=1\n",
    "print(up_correct)\n",
    "print(up_predicted_as_down)"
   ]
  },
  {
   "cell_type": "markdown",
   "metadata": {},
   "source": [
    "Interpretation of the confusion matrix - \n",
    "55 Downs and 558 Ups are predicted correctly. 47 Ups are predicted as downs and 429 Downs are predicted as ups.\n",
    "\n",
    "Overall fraction of correct predictions - (55+558)/ (47+429+55+558) = 0.563"
   ]
  },
  {
   "cell_type": "markdown",
   "metadata": {},
   "source": [
    "## Logistic Regression tested on 1990-2008 data"
   ]
  },
  {
   "cell_type": "code",
   "execution_count": 107,
   "metadata": {
    "collapsed": false
   },
   "outputs": [
    {
     "data": {
      "text/html": [
       "<div>\n",
       "<table border=\"1\" class=\"dataframe\">\n",
       "  <thead>\n",
       "    <tr style=\"text-align: right;\">\n",
       "      <th></th>\n",
       "      <th>Unnamed: 0</th>\n",
       "      <th>Year</th>\n",
       "      <th>Lag1</th>\n",
       "      <th>Lag2</th>\n",
       "      <th>Lag3</th>\n",
       "      <th>Lag4</th>\n",
       "      <th>Lag5</th>\n",
       "      <th>Volume</th>\n",
       "      <th>Today</th>\n",
       "      <th>Direction</th>\n",
       "    </tr>\n",
       "  </thead>\n",
       "  <tbody>\n",
       "    <tr>\n",
       "      <th>980</th>\n",
       "      <td>981</td>\n",
       "      <td>2008</td>\n",
       "      <td>12.026</td>\n",
       "      <td>-8.389</td>\n",
       "      <td>-6.198</td>\n",
       "      <td>-3.898</td>\n",
       "      <td>10.491</td>\n",
       "      <td>5.841565</td>\n",
       "      <td>-2.251</td>\n",
       "      <td>Down</td>\n",
       "    </tr>\n",
       "    <tr>\n",
       "      <th>981</th>\n",
       "      <td>982</td>\n",
       "      <td>2008</td>\n",
       "      <td>-2.251</td>\n",
       "      <td>12.026</td>\n",
       "      <td>-8.389</td>\n",
       "      <td>-6.198</td>\n",
       "      <td>-3.898</td>\n",
       "      <td>6.093950</td>\n",
       "      <td>0.418</td>\n",
       "      <td>Up</td>\n",
       "    </tr>\n",
       "    <tr>\n",
       "      <th>982</th>\n",
       "      <td>983</td>\n",
       "      <td>2008</td>\n",
       "      <td>0.418</td>\n",
       "      <td>-2.251</td>\n",
       "      <td>12.026</td>\n",
       "      <td>-8.389</td>\n",
       "      <td>-6.198</td>\n",
       "      <td>5.932454</td>\n",
       "      <td>0.926</td>\n",
       "      <td>Up</td>\n",
       "    </tr>\n",
       "    <tr>\n",
       "      <th>983</th>\n",
       "      <td>984</td>\n",
       "      <td>2008</td>\n",
       "      <td>0.926</td>\n",
       "      <td>0.418</td>\n",
       "      <td>-2.251</td>\n",
       "      <td>12.026</td>\n",
       "      <td>-8.389</td>\n",
       "      <td>5.855972</td>\n",
       "      <td>-1.698</td>\n",
       "      <td>Down</td>\n",
       "    </tr>\n",
       "    <tr>\n",
       "      <th>984</th>\n",
       "      <td>985</td>\n",
       "      <td>2008</td>\n",
       "      <td>-1.698</td>\n",
       "      <td>0.926</td>\n",
       "      <td>0.418</td>\n",
       "      <td>-2.251</td>\n",
       "      <td>12.026</td>\n",
       "      <td>3.087105</td>\n",
       "      <td>6.760</td>\n",
       "      <td>Up</td>\n",
       "    </tr>\n",
       "  </tbody>\n",
       "</table>\n",
       "</div>"
      ],
      "text/plain": [
       "     Unnamed: 0  Year    Lag1    Lag2    Lag3    Lag4    Lag5    Volume  \\\n",
       "980         981  2008  12.026  -8.389  -6.198  -3.898  10.491  5.841565   \n",
       "981         982  2008  -2.251  12.026  -8.389  -6.198  -3.898  6.093950   \n",
       "982         983  2008   0.418  -2.251  12.026  -8.389  -6.198  5.932454   \n",
       "983         984  2008   0.926   0.418  -2.251  12.026  -8.389  5.855972   \n",
       "984         985  2008  -1.698   0.926   0.418  -2.251  12.026  3.087105   \n",
       "\n",
       "     Today Direction  \n",
       "980 -2.251      Down  \n",
       "981  0.418        Up  \n",
       "982  0.926        Up  \n",
       "983 -1.698      Down  \n",
       "984  6.760        Up  "
      ]
     },
     "execution_count": 107,
     "metadata": {},
     "output_type": "execute_result"
    }
   ],
   "source": [
    "pre_2009 = weekly.loc[:984, :]\n",
    "pre_2009.tail()"
   ]
  },
  {
   "cell_type": "markdown",
   "metadata": {},
   "source": [
    "This doesn't seem a great way to separate the pre-2009 data from the rest but for now, this is how I will do it. I will change this when I figure out how to do this a better way"
   ]
  },
  {
   "cell_type": "code",
   "execution_count": 108,
   "metadata": {
    "collapsed": false
   },
   "outputs": [
    {
     "data": {
      "text/html": [
       "<div>\n",
       "<table border=\"1\" class=\"dataframe\">\n",
       "  <thead>\n",
       "    <tr style=\"text-align: right;\">\n",
       "      <th></th>\n",
       "      <th>Unnamed: 0</th>\n",
       "      <th>Year</th>\n",
       "      <th>Lag1</th>\n",
       "      <th>Lag2</th>\n",
       "      <th>Lag3</th>\n",
       "      <th>Lag4</th>\n",
       "      <th>Lag5</th>\n",
       "      <th>Volume</th>\n",
       "      <th>Today</th>\n",
       "      <th>Direction</th>\n",
       "    </tr>\n",
       "  </thead>\n",
       "  <tbody>\n",
       "    <tr>\n",
       "      <th>985</th>\n",
       "      <td>986</td>\n",
       "      <td>2009</td>\n",
       "      <td>6.760</td>\n",
       "      <td>-1.698</td>\n",
       "      <td>0.926</td>\n",
       "      <td>0.418</td>\n",
       "      <td>-2.251</td>\n",
       "      <td>3.793110</td>\n",
       "      <td>-4.448</td>\n",
       "      <td>Down</td>\n",
       "    </tr>\n",
       "    <tr>\n",
       "      <th>986</th>\n",
       "      <td>987</td>\n",
       "      <td>2009</td>\n",
       "      <td>-4.448</td>\n",
       "      <td>6.760</td>\n",
       "      <td>-1.698</td>\n",
       "      <td>0.926</td>\n",
       "      <td>0.418</td>\n",
       "      <td>5.043904</td>\n",
       "      <td>-4.518</td>\n",
       "      <td>Down</td>\n",
       "    </tr>\n",
       "    <tr>\n",
       "      <th>987</th>\n",
       "      <td>988</td>\n",
       "      <td>2009</td>\n",
       "      <td>-4.518</td>\n",
       "      <td>-4.448</td>\n",
       "      <td>6.760</td>\n",
       "      <td>-1.698</td>\n",
       "      <td>0.926</td>\n",
       "      <td>5.948758</td>\n",
       "      <td>-2.137</td>\n",
       "      <td>Down</td>\n",
       "    </tr>\n",
       "    <tr>\n",
       "      <th>988</th>\n",
       "      <td>989</td>\n",
       "      <td>2009</td>\n",
       "      <td>-2.137</td>\n",
       "      <td>-4.518</td>\n",
       "      <td>-4.448</td>\n",
       "      <td>6.760</td>\n",
       "      <td>-1.698</td>\n",
       "      <td>6.129763</td>\n",
       "      <td>-0.730</td>\n",
       "      <td>Down</td>\n",
       "    </tr>\n",
       "    <tr>\n",
       "      <th>989</th>\n",
       "      <td>990</td>\n",
       "      <td>2009</td>\n",
       "      <td>-0.730</td>\n",
       "      <td>-2.137</td>\n",
       "      <td>-4.518</td>\n",
       "      <td>-4.448</td>\n",
       "      <td>6.760</td>\n",
       "      <td>5.602004</td>\n",
       "      <td>5.173</td>\n",
       "      <td>Up</td>\n",
       "    </tr>\n",
       "  </tbody>\n",
       "</table>\n",
       "</div>"
      ],
      "text/plain": [
       "     Unnamed: 0  Year   Lag1   Lag2   Lag3   Lag4   Lag5    Volume  Today  \\\n",
       "985         986  2009  6.760 -1.698  0.926  0.418 -2.251  3.793110 -4.448   \n",
       "986         987  2009 -4.448  6.760 -1.698  0.926  0.418  5.043904 -4.518   \n",
       "987         988  2009 -4.518 -4.448  6.760 -1.698  0.926  5.948758 -2.137   \n",
       "988         989  2009 -2.137 -4.518 -4.448  6.760 -1.698  6.129763 -0.730   \n",
       "989         990  2009 -0.730 -2.137 -4.518 -4.448  6.760  5.602004  5.173   \n",
       "\n",
       "    Direction  \n",
       "985      Down  \n",
       "986      Down  \n",
       "987      Down  \n",
       "988      Down  \n",
       "989        Up  "
      ]
     },
     "execution_count": 108,
     "metadata": {},
     "output_type": "execute_result"
    }
   ],
   "source": [
    "post_2009 = weekly.loc[985:, :]\n",
    "post_2009.head()"
   ]
  },
  {
   "cell_type": "code",
   "execution_count": 109,
   "metadata": {
    "collapsed": false
   },
   "outputs": [
    {
     "data": {
      "text/plain": [
       "(985,)"
      ]
     },
     "execution_count": 109,
     "metadata": {},
     "output_type": "execute_result"
    }
   ],
   "source": [
    "lag2_training  = pre_2009[\"Lag2\"]\n",
    "lag2_training.shape"
   ]
  },
  {
   "cell_type": "code",
   "execution_count": 110,
   "metadata": {
    "collapsed": false
   },
   "outputs": [
    {
     "data": {
      "text/plain": [
       "LogisticRegression(C=1.0, class_weight=None, dual=False, fit_intercept=True,\n",
       "          intercept_scaling=1, max_iter=100, multi_class='ovr', n_jobs=1,\n",
       "          penalty='l2', random_state=None, solver='liblinear', tol=0.0001,\n",
       "          verbose=0, warm_start=False)"
      ]
     },
     "execution_count": 110,
     "metadata": {},
     "output_type": "execute_result"
    }
   ],
   "source": [
    "lag2_training = np.reshape(lag2_training, (985, 1)) # to get rid of a deprecation warning\n",
    "new_logistic_regr = LogisticRegression()\n",
    "new_logistic_regr.fit(lag2_training, pre_2009[\"Direction\"])"
   ]
  },
  {
   "cell_type": "code",
   "execution_count": 111,
   "metadata": {
    "collapsed": false
   },
   "outputs": [
    {
     "data": {
      "text/plain": [
       "(104,)"
      ]
     },
     "execution_count": 111,
     "metadata": {},
     "output_type": "execute_result"
    }
   ],
   "source": [
    "lag2_testing = post_2009[\"Lag2\"]\n",
    "lag2_testing.shape"
   ]
  },
  {
   "cell_type": "code",
   "execution_count": 112,
   "metadata": {
    "collapsed": false
   },
   "outputs": [
    {
     "name": "stdout",
     "output_type": "stream",
     "text": [
      "[[ 9 34]\n",
      " [ 5 56]]\n"
     ]
    }
   ],
   "source": [
    "lag2_testing = np.reshape(lag2_testing, (104, 1))\n",
    "new_results = new_logistic_regr.predict(lag2_testing)\n",
    "print(confusion_matrix(post_2009[\"Direction\"], new_results))"
   ]
  },
  {
   "cell_type": "markdown",
   "metadata": {},
   "source": [
    "Assuming the same row-wise interpretation of the confusion matrix as before, the interpretation of the matrix is as follows - \n",
    "9 Downs and 56 Ups are predicted correctly. 5 Ups are predicted as Downs and 34 Downs are predicted as Ups.\n",
    "Overall fraction of correct predictions = (9+34)/(9+34+5+56) = 0.413"
   ]
  },
  {
   "cell_type": "markdown",
   "metadata": {},
   "source": [
    "## Linear Discriminant Analysis"
   ]
  },
  {
   "cell_type": "code",
   "execution_count": 113,
   "metadata": {
    "collapsed": false
   },
   "outputs": [
    {
     "data": {
      "text/plain": [
       "(985, 1)"
      ]
     },
     "execution_count": 113,
     "metadata": {},
     "output_type": "execute_result"
    }
   ],
   "source": [
    "lag2_training.shape"
   ]
  },
  {
   "cell_type": "code",
   "execution_count": 114,
   "metadata": {
    "collapsed": false
   },
   "outputs": [
    {
     "data": {
      "text/plain": [
       "LinearDiscriminantAnalysis(n_components=None, priors=None, shrinkage=None,\n",
       "              solver='svd', store_covariance=False, tol=0.0001)"
      ]
     },
     "execution_count": 114,
     "metadata": {},
     "output_type": "execute_result"
    }
   ],
   "source": [
    "lda = LDA()\n",
    "lda.fit(lag2_training, pre_2009[\"Direction\"])"
   ]
  },
  {
   "cell_type": "code",
   "execution_count": 115,
   "metadata": {
    "collapsed": false
   },
   "outputs": [],
   "source": [
    "lda_results = lda.predict(lag2_testing)"
   ]
  },
  {
   "cell_type": "code",
   "execution_count": 116,
   "metadata": {
    "collapsed": false
   },
   "outputs": [
    {
     "name": "stdout",
     "output_type": "stream",
     "text": [
      "[[ 9 34]\n",
      " [ 5 56]]\n"
     ]
    }
   ],
   "source": [
    "print(confusion_matrix(post_2009[\"Direction\"], lda_results))"
   ]
  },
  {
   "cell_type": "markdown",
   "metadata": {},
   "source": [
    "This is the exact same confusion matrix as the last logistic regression model. Let's see if both the models have the same predictions for each instance."
   ]
  },
  {
   "cell_type": "code",
   "execution_count": 119,
   "metadata": {
    "collapsed": false
   },
   "outputs": [
    {
     "name": "stdout",
     "output_type": "stream",
     "text": [
      "[-0.85074208 -0.55704038] [-0.85097261 -0.55686856]\n",
      "[-0.82583009 -0.57602457] [-0.82621748 -0.57572292]\n",
      "[-0.79087438 -0.60412607] [-0.79147622 -0.60362703]\n",
      "[-0.719923   -0.66706965] [-0.72093726 -0.66610856]\n",
      "[-0.91688866 -0.5104272 ] [-0.91668814 -0.51056077]\n"
     ]
    }
   ],
   "source": [
    "x1 = new_logistic_regr.predict_log_proba(lag2_training)\n",
    "x2 = lda.predict_log_proba(lag2_training)\n",
    "for num in range(5): #printing out only the first few\n",
    "    print(x1[num], x2[num])"
   ]
  },
  {
   "cell_type": "markdown",
   "metadata": {},
   "source": [
    "As the log probabilities returned by both these models are not the same, the fact that both these models return the same confusion matrix is not an issue.\n",
    "\n",
    "Interpretration of the confusion matrix - \n",
    "9 Downs and 56 Ups are predicted correctly. 5 Ups are predicted as Downs and 34 Downs are predicted as Ups. Overall fraction of correct predictions = (9+34)/(9+34+5+56) = 0.413"
   ]
  },
  {
   "cell_type": "code",
   "execution_count": null,
   "metadata": {
    "collapsed": true
   },
   "outputs": [],
   "source": []
  }
 ],
 "metadata": {
  "kernelspec": {
   "display_name": "Python 3",
   "language": "python",
   "name": "python3"
  },
  "language_info": {
   "codemirror_mode": {
    "name": "ipython",
    "version": 3
   },
   "file_extension": ".py",
   "mimetype": "text/x-python",
   "name": "python",
   "nbconvert_exporter": "python",
   "pygments_lexer": "ipython3",
   "version": "3.5.2"
  }
 },
 "nbformat": 4,
 "nbformat_minor": 0
}
